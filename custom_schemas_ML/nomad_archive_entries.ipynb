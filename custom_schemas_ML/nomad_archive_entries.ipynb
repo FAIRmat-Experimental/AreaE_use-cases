{
 "cells": [
  {
   "cell_type": "code",
   "execution_count": 2,
   "metadata": {},
   "outputs": [
    {
     "data": {
      "text/html": [
       "<div>\n",
       "<style scoped>\n",
       "    .dataframe tbody tr th:only-of-type {\n",
       "        vertical-align: middle;\n",
       "    }\n",
       "\n",
       "    .dataframe tbody tr th {\n",
       "        vertical-align: top;\n",
       "    }\n",
       "\n",
       "    .dataframe thead th {\n",
       "        text-align: right;\n",
       "    }\n",
       "</style>\n",
       "<table border=\"1\" class=\"dataframe\">\n",
       "  <thead>\n",
       "    <tr style=\"text-align: right;\">\n",
       "      <th></th>\n",
       "      <th>formula</th>\n",
       "      <th>prediction</th>\n",
       "      <th>density</th>\n",
       "      <th>Density Score</th>\n",
       "      <th>index</th>\n",
       "    </tr>\n",
       "  </thead>\n",
       "  <tbody>\n",
       "    <tr>\n",
       "      <th>0</th>\n",
       "      <td>SrLi4N2</td>\n",
       "      <td>99.081</td>\n",
       "      <td>0.123</td>\n",
       "      <td>2.912</td>\n",
       "      <td>8126</td>\n",
       "    </tr>\n",
       "    <tr>\n",
       "      <th>1</th>\n",
       "      <td>Ca3Au</td>\n",
       "      <td>38.549</td>\n",
       "      <td>0.109</td>\n",
       "      <td>2.568</td>\n",
       "      <td>1065</td>\n",
       "    </tr>\n",
       "    <tr>\n",
       "      <th>2</th>\n",
       "      <td>Li3Au</td>\n",
       "      <td>33.420</td>\n",
       "      <td>0.116</td>\n",
       "      <td>2.368</td>\n",
       "      <td>4140</td>\n",
       "    </tr>\n",
       "    <tr>\n",
       "      <th>3</th>\n",
       "      <td>Rb3Mg</td>\n",
       "      <td>20.000</td>\n",
       "      <td>0.113</td>\n",
       "      <td>2.278</td>\n",
       "      <td>6861</td>\n",
       "    </tr>\n",
       "    <tr>\n",
       "      <th>4</th>\n",
       "      <td>Li7Sn2</td>\n",
       "      <td>18.725</td>\n",
       "      <td>0.118</td>\n",
       "      <td>2.159</td>\n",
       "      <td>4239</td>\n",
       "    </tr>\n",
       "  </tbody>\n",
       "</table>\n",
       "</div>"
      ],
      "text/plain": [
       "   formula  prediction  density  Density Score  index\n",
       "0  SrLi4N2      99.081    0.123          2.912   8126\n",
       "1    Ca3Au      38.549    0.109          2.568   1065\n",
       "2    Li3Au      33.420    0.116          2.368   4140\n",
       "3    Rb3Mg      20.000    0.113          2.278   6861\n",
       "4   Li7Sn2      18.725    0.118          2.159   4239"
      ]
     },
     "execution_count": 2,
     "metadata": {},
     "output_type": "execute_result"
    }
   ],
   "source": [
    "import pandas as pd\n",
    "import numpy as np\n",
    "\n",
    "df = pd.read_excel('bulk_modulus.archive.xlsx')\n",
    "df.head()"
   ]
  },
  {
   "cell_type": "code",
   "execution_count": 14,
   "metadata": {},
   "outputs": [],
   "source": [
    "# convert prediction from GPa to Pa\n",
    "df['prediction'] = df['prediction'] * 1e9"
   ]
  },
  {
   "cell_type": "code",
   "execution_count": 16,
   "metadata": {},
   "outputs": [],
   "source": [
    "# create a dict for every row of df and dump them as json files\n",
    "# TODO wirte metadata to json file describing the ML code, versioning, etc.\n",
    "import json\n",
    "for i in range(len(df)):\n",
    "    row = df.iloc[i]\n",
    "    archive_dict = {\n",
    "        'data': {\n",
    "            \"m_def\": '../upload/raw/bulk_modulus.archive.yaml#DiSCoVeRBulkModulus',\n",
    "            'chemical_formula': row['formula'],\n",
    "            'value': row['prediction']\n",
    "            },\n",
    "        'results': {\n",
    "            'properties':{\n",
    "                'mechanical':{\n",
    "                    'bulk_modulus':[{\n",
    "                        'value': row['prediction']\n",
    "            }]\n",
    "        }}}}\n",
    "\n",
    "    with open('archive_files/bulk_modulus_' + row['formula'] + '.archive' + '.json', 'w') as f:\n",
    "        json.dump(archive_dict, f)\n",
    "\n",
    "\n"
   ]
  },
  {
   "cell_type": "code",
   "execution_count": null,
   "metadata": {},
   "outputs": [],
   "source": []
  }
 ],
 "metadata": {
  "kernelspec": {
   "display_name": "Python 3.9.7 ('base')",
   "language": "python",
   "name": "python3"
  },
  "language_info": {
   "codemirror_mode": {
    "name": "ipython",
    "version": 3
   },
   "file_extension": ".py",
   "mimetype": "text/x-python",
   "name": "python",
   "nbconvert_exporter": "python",
   "pygments_lexer": "ipython3",
   "version": "3.9.7"
  },
  "orig_nbformat": 4,
  "vscode": {
   "interpreter": {
    "hash": "ba7ce8f8ad89ccb5272ab6fb5920f5829f456abd26af263e3828f3a0b17913d2"
   }
  }
 },
 "nbformat": 4,
 "nbformat_minor": 2
}
