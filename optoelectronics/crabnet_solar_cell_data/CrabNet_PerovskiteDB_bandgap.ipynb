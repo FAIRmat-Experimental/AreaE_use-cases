{
 "cells": [
  {
   "cell_type": "code",
   "execution_count": 1,
   "id": "b0747f63",
   "metadata": {},
   "outputs": [],
   "source": [
    "from crabnet.crabnet_ import CrabNet\n",
    "import re\n",
    "from pymatgen.core import Composition\n",
    "from matplotlib import pyplot as plt\n",
    "import numpy as np\n",
    "# %matplotlib notebook\n",
    "from ipywidgets import interactive, FloatLogSlider, jsdlink\n",
    "import ipywidgets as widgets\n",
    "from IPython.display import display\n",
    "import seaborn as sns\n",
    "import xarray as xr\n",
    "from crabnet.utils.data import groupby_formula\n",
    "import requests\n",
    "import json\n",
    "import nest_asyncio\n",
    "import pandas as pd\n",
    "nest_asyncio.apply()\n",
    "plt.rcParams.update({'font.size': 16})\n",
    "plt.rcParams.update({'font.family': \"Arial\"}) \n",
    "\n",
    "sns.set_palette(\"coolwarm\",8)"
   ]
  },
  {
   "cell_type": "markdown",
   "id": "43218800",
   "metadata": {},
   "source": [
    "## Retrieving solar cell data from the nomad archive"
   ]
  },
  {
   "cell_type": "code",
   "execution_count": 2,
   "id": "85cc02dc",
   "metadata": {},
   "outputs": [],
   "source": [
    "import getpass\n",
    "password = getpass.getpass()"
   ]
  },
  {
   "cell_type": "code",
   "execution_count": 3,
   "id": "abcd1e95",
   "metadata": {},
   "outputs": [],
   "source": [
    "response = requests.get(\n",
    "    'https://nomad-lab.eu/prod/v1/staging/api/v1/auth/token', params=dict(username='pepe_marquez', password=password))\n",
    "token = response.json()['access_token']"
   ]
  },
  {
   "cell_type": "markdown",
   "id": "f2f1a498",
   "metadata": {},
   "source": [
    "Runs a query to the NOMAD archive to retrieve all the solar cell entries contaiing a bandgap value. It will possibly take like 20 minutes to get all the data from the server. Note that there are more than 42k solar cell entries in the archive."
   ]
  },
  {
   "cell_type": "code",
   "execution_count": 15,
   "id": "5ddf7898",
   "metadata": {},
   "outputs": [],
   "source": [
    "base_url = 'https://nomad-lab.eu/prod/v1/staging/api/v1/'\n",
    "\n",
    "bandgaps =[]\n",
    "vocs = []\n",
    "jscs = []\n",
    "ffs = []\n",
    "pces = []\n",
    "formulas = []\n",
    "page_after_value = None\n",
    "\n",
    "while True:\n",
    "  data = requests.post(f'{base_url}/entries/archive/query', headers={'Authorization': f'Bearer {token}'}, json={\n",
    "    \"owner\": \"visible\",\n",
    "    \"aggregations\": {},\n",
    "\n",
    "    'query': {#\"results.material.material_name:any\": [\"perovskite\"],\n",
    "              \"results.properties.available_properties:all\": [\"optoelectronic.band_gap\"],\n",
    "              \"authors.name:any\": [\"Pepe Marquez\"],\n",
    "              \"results.material.elements:all\": [\"Sn\"]},\n",
    "\n",
    "    'required': {# 'data':'*',\n",
    "                'results':{\n",
    "                    'material': {\n",
    "                        'chemical_formula_reduced':'*'},\n",
    "                    'properties': {\n",
    "                        'optoelectronic':{\n",
    "                            'band_gap':'*',\n",
    "                            'solar_cell':{\n",
    "                                'open_circuit_voltage':'*',\n",
    "                                'short_circuit_current_density':'*',\n",
    "                                'fill_factor':'*',\n",
    "                                'efficiency':'*',\n",
    "                                }}},},\n",
    "                },\n",
    "    'pagination': {'page_size': 20,\n",
    "                   'page_after_value': page_after_value}\n",
    "  }).json()\n",
    "\n",
    "  #if len(data['data']) == 0:\n",
    "  #  break\n",
    "  if 'next_page_after_value' not in data['pagination'].keys():\n",
    "    break\n",
    "  page_after_value = data['pagination']['next_page_after_value']\n",
    "\n",
    "  for entry in data['data']:\n",
    "    if 'results' not in entry['archive'].keys():\n",
    "      continue\n",
    "    elif 'chemical_formula_reduced' not in entry['archive']['results']['material'].keys():\n",
    "      continue\n",
    "    else:\n",
    "      bandgaps.append(entry['archive']['results']['properties']['optoelectronic']['band_gap'][0]['value'])\n",
    "      formulas.append(entry['archive']['results']['material']['chemical_formula_reduced'])"
   ]
  },
  {
   "cell_type": "code",
   "execution_count": 16,
   "id": "04c0d61e",
   "metadata": {},
   "outputs": [
    {
     "data": {
      "text/plain": [
       "640"
      ]
     },
     "execution_count": 16,
     "metadata": {},
     "output_type": "execute_result"
    }
   ],
   "source": [
    "len(bandgaps)"
   ]
  },
  {
   "cell_type": "markdown",
   "id": "45ead1b8",
   "metadata": {},
   "source": [
    "Let's store the formulas and bandgaps in a pandas dataframe"
   ]
  },
  {
   "cell_type": "code",
   "execution_count": 39,
   "id": "94cbee46",
   "metadata": {},
   "outputs": [
    {
     "ename": "NameError",
     "evalue": "name 'formulas' is not defined",
     "output_type": "error",
     "traceback": [
      "\u001b[1;31m---------------------------------------------------------------------------\u001b[0m",
      "\u001b[1;31mNameError\u001b[0m                                 Traceback (most recent call last)",
      "\u001b[1;32m~\\AppData\\Local\\Temp/ipykernel_22492/513387352.py\u001b[0m in \u001b[0;36m<module>\u001b[1;34m\u001b[0m\n\u001b[1;32m----> 1\u001b[1;33m \u001b[0mdf\u001b[0m \u001b[1;33m=\u001b[0m \u001b[0mpd\u001b[0m\u001b[1;33m.\u001b[0m\u001b[0mDataFrame\u001b[0m\u001b[1;33m(\u001b[0m\u001b[1;33m{\u001b[0m\u001b[1;34m'formula'\u001b[0m\u001b[1;33m:\u001b[0m \u001b[0mformulas\u001b[0m\u001b[1;33m,\u001b[0m \u001b[1;34m'bandgap'\u001b[0m\u001b[1;33m:\u001b[0m \u001b[0mbandgaps\u001b[0m\u001b[1;33m}\u001b[0m\u001b[1;33m)\u001b[0m\u001b[1;33m\u001b[0m\u001b[1;33m\u001b[0m\u001b[0m\n\u001b[0m\u001b[0;32m      2\u001b[0m \u001b[0mdf\u001b[0m\u001b[1;33m.\u001b[0m\u001b[0mto_csv\u001b[0m\u001b[1;33m(\u001b[0m\u001b[1;34m'perovskite_bandgap.csv'\u001b[0m\u001b[1;33m,\u001b[0m \u001b[0mindex\u001b[0m\u001b[1;33m=\u001b[0m\u001b[1;32mFalse\u001b[0m\u001b[1;33m)\u001b[0m\u001b[1;33m\u001b[0m\u001b[1;33m\u001b[0m\u001b[0m\n\u001b[0;32m      3\u001b[0m \u001b[0mdf\u001b[0m\u001b[1;33m\u001b[0m\u001b[1;33m\u001b[0m\u001b[0m\n",
      "\u001b[1;31mNameError\u001b[0m: name 'formulas' is not defined"
     ]
    }
   ],
   "source": [
    "df = pd.DataFrame({'formula': formulas, 'bandgap': bandgaps})\n"
   ]
  },
  {
   "cell_type": "code",
   "execution_count": null,
   "id": "4b5973a8",
   "metadata": {},
   "outputs": [],
   "source": [
    "df.to_csv('perovskite_bandgap.csv', index=False)"
   ]
  },
  {
   "cell_type": "markdown",
   "id": "467cbf45",
   "metadata": {},
   "source": [
    "Import perovskite_bandgap.csv as a pandas DataFrame. This df contains the results of the API query above, which typically needs several minutes to be processed. "
   ]
  },
  {
   "cell_type": "code",
   "execution_count": 4,
   "id": "cf00a3e3",
   "metadata": {},
   "outputs": [
    {
     "data": {
      "text/html": [
       "<div>\n",
       "<style scoped>\n",
       "    .dataframe tbody tr th:only-of-type {\n",
       "        vertical-align: middle;\n",
       "    }\n",
       "\n",
       "    .dataframe tbody tr th {\n",
       "        vertical-align: top;\n",
       "    }\n",
       "\n",
       "    .dataframe thead th {\n",
       "        text-align: right;\n",
       "    }\n",
       "</style>\n",
       "<table border=\"1\" class=\"dataframe\">\n",
       "  <thead>\n",
       "    <tr style=\"text-align: right;\">\n",
       "      <th></th>\n",
       "      <th>formula</th>\n",
       "      <th>bandgap</th>\n",
       "    </tr>\n",
       "  </thead>\n",
       "  <tbody>\n",
       "    <tr>\n",
       "      <th>0</th>\n",
       "      <td>H6Pb1C1I3N1</td>\n",
       "      <td>2.563483e-19</td>\n",
       "    </tr>\n",
       "    <tr>\n",
       "      <th>1</th>\n",
       "      <td>H6Pb1C1I3N1</td>\n",
       "      <td>2.563483e-19</td>\n",
       "    </tr>\n",
       "    <tr>\n",
       "      <th>2</th>\n",
       "      <td>H6Pb1C1I3N1</td>\n",
       "      <td>2.563483e-19</td>\n",
       "    </tr>\n",
       "    <tr>\n",
       "      <th>3</th>\n",
       "      <td>H6Pb1C1I3N1</td>\n",
       "      <td>2.531439e-19</td>\n",
       "    </tr>\n",
       "    <tr>\n",
       "      <th>4</th>\n",
       "      <td>H6Pb1C1I3N1</td>\n",
       "      <td>2.563483e-19</td>\n",
       "    </tr>\n",
       "    <tr>\n",
       "      <th>...</th>\n",
       "      <td>...</td>\n",
       "      <td>...</td>\n",
       "    </tr>\n",
       "    <tr>\n",
       "      <th>31155</th>\n",
       "      <td>H6Pb1C1I3N1</td>\n",
       "      <td>2.563483e-19</td>\n",
       "    </tr>\n",
       "    <tr>\n",
       "      <th>31156</th>\n",
       "      <td>H6Pb1C1I3N1</td>\n",
       "      <td>2.563483e-19</td>\n",
       "    </tr>\n",
       "    <tr>\n",
       "      <th>31157</th>\n",
       "      <td>H6Pb1C1I3N1</td>\n",
       "      <td>2.531439e-19</td>\n",
       "    </tr>\n",
       "    <tr>\n",
       "      <th>31158</th>\n",
       "      <td>H6Pb1C1I3N1</td>\n",
       "      <td>2.563483e-19</td>\n",
       "    </tr>\n",
       "    <tr>\n",
       "      <th>31159</th>\n",
       "      <td>H77Pb4C5I13N2</td>\n",
       "      <td>2.499396e-19</td>\n",
       "    </tr>\n",
       "  </tbody>\n",
       "</table>\n",
       "<p>31160 rows × 2 columns</p>\n",
       "</div>"
      ],
      "text/plain": [
       "             formula       bandgap\n",
       "0        H6Pb1C1I3N1  2.563483e-19\n",
       "1        H6Pb1C1I3N1  2.563483e-19\n",
       "2        H6Pb1C1I3N1  2.563483e-19\n",
       "3        H6Pb1C1I3N1  2.531439e-19\n",
       "4        H6Pb1C1I3N1  2.563483e-19\n",
       "...              ...           ...\n",
       "31155    H6Pb1C1I3N1  2.563483e-19\n",
       "31156    H6Pb1C1I3N1  2.563483e-19\n",
       "31157    H6Pb1C1I3N1  2.531439e-19\n",
       "31158    H6Pb1C1I3N1  2.563483e-19\n",
       "31159  H77Pb4C5I13N2  2.499396e-19\n",
       "\n",
       "[31160 rows x 2 columns]"
      ]
     },
     "execution_count": 4,
     "metadata": {},
     "output_type": "execute_result"
    }
   ],
   "source": [
    "df = pd.read_csv('perovskite_bandgap.csv')\n",
    "df"
   ]
  },
  {
   "cell_type": "code",
   "execution_count": 5,
   "id": "82b9dec1",
   "metadata": {},
   "outputs": [
    {
     "data": {
      "text/html": [
       "<div>\n",
       "<style scoped>\n",
       "    .dataframe tbody tr th:only-of-type {\n",
       "        vertical-align: middle;\n",
       "    }\n",
       "\n",
       "    .dataframe tbody tr th {\n",
       "        vertical-align: top;\n",
       "    }\n",
       "\n",
       "    .dataframe thead th {\n",
       "        text-align: right;\n",
       "    }\n",
       "</style>\n",
       "<table border=\"1\" class=\"dataframe\">\n",
       "  <thead>\n",
       "    <tr style=\"text-align: right;\">\n",
       "      <th></th>\n",
       "      <th>formula</th>\n",
       "      <th>bandgap</th>\n",
       "    </tr>\n",
       "  </thead>\n",
       "  <tbody>\n",
       "    <tr>\n",
       "      <th>0</th>\n",
       "      <td>H6Pb1C1I3N1</td>\n",
       "      <td>1.60</td>\n",
       "    </tr>\n",
       "    <tr>\n",
       "      <th>1</th>\n",
       "      <td>H6Pb1C1I3N1</td>\n",
       "      <td>1.60</td>\n",
       "    </tr>\n",
       "    <tr>\n",
       "      <th>2</th>\n",
       "      <td>H6Pb1C1I3N1</td>\n",
       "      <td>1.60</td>\n",
       "    </tr>\n",
       "    <tr>\n",
       "      <th>3</th>\n",
       "      <td>H6Pb1C1I3N1</td>\n",
       "      <td>1.58</td>\n",
       "    </tr>\n",
       "    <tr>\n",
       "      <th>4</th>\n",
       "      <td>H6Pb1C1I3N1</td>\n",
       "      <td>1.60</td>\n",
       "    </tr>\n",
       "  </tbody>\n",
       "</table>\n",
       "</div>"
      ],
      "text/plain": [
       "       formula  bandgap\n",
       "0  H6Pb1C1I3N1     1.60\n",
       "1  H6Pb1C1I3N1     1.60\n",
       "2  H6Pb1C1I3N1     1.60\n",
       "3  H6Pb1C1I3N1     1.58\n",
       "4  H6Pb1C1I3N1     1.60"
      ]
     },
     "execution_count": 5,
     "metadata": {},
     "output_type": "execute_result"
    }
   ],
   "source": [
    "# Change the values of bandgap from units of Joule to electronvolt\n",
    "df['bandgap'] = df['bandgap'] * 6.24150974e18\n",
    "df.head()"
   ]
  },
  {
   "cell_type": "markdown",
   "id": "35bcf651",
   "metadata": {},
   "source": [
    "The distribution of the chemical diveristy of the dataset can be viewed in the perodioc table of the NOMAD entries explorer. The down right corner of every element shows the number of entries (solar cells) that contain in the absorber a given element. It becomes obvius that the dtaa set is imbalance with the majority of the entries being *Pb* based, containing *C*, *N* anf *H* (hybrid perovskites) and mostly halide compounds, with most of the entries having *I* and/or *Br*. \n",
    "\n",
    "![Periodic Table](nomad_periodic_table_perovskite_database.png)"
   ]
  },
  {
   "cell_type": "markdown",
   "id": "6bb96259",
   "metadata": {},
   "source": [
    "There are many repeated formulas and bandgap values in the dataframe. We will use `group_by_formula` from crabnet utilities to end up with unique formula bandgap pairs. To do so we will average the value for a given formula"
   ]
  },
  {
   "cell_type": "code",
   "execution_count": 6,
   "id": "78f3c5b1",
   "metadata": {},
   "outputs": [
    {
     "data": {
      "text/html": [
       "<div>\n",
       "<style scoped>\n",
       "    .dataframe tbody tr th:only-of-type {\n",
       "        vertical-align: middle;\n",
       "    }\n",
       "\n",
       "    .dataframe tbody tr th {\n",
       "        vertical-align: top;\n",
       "    }\n",
       "\n",
       "    .dataframe thead th {\n",
       "        text-align: right;\n",
       "    }\n",
       "</style>\n",
       "<table border=\"1\" class=\"dataframe\">\n",
       "  <thead>\n",
       "    <tr style=\"text-align: right;\">\n",
       "      <th></th>\n",
       "      <th>formula</th>\n",
       "      <th>index</th>\n",
       "      <th>target</th>\n",
       "    </tr>\n",
       "  </thead>\n",
       "  <tbody>\n",
       "    <tr>\n",
       "      <th>0</th>\n",
       "      <td>Ag1Bi1I4</td>\n",
       "      <td>(9724,)</td>\n",
       "      <td>1.86</td>\n",
       "    </tr>\n",
       "    <tr>\n",
       "      <th>1</th>\n",
       "      <td>Ag1Bi2I7</td>\n",
       "      <td>(3735,)</td>\n",
       "      <td>1.86</td>\n",
       "    </tr>\n",
       "    <tr>\n",
       "      <th>2</th>\n",
       "      <td>Ag2Bi1I5</td>\n",
       "      <td>(18295,)</td>\n",
       "      <td>1.86</td>\n",
       "    </tr>\n",
       "    <tr>\n",
       "      <th>3</th>\n",
       "      <td>Ag38Bi750I2375</td>\n",
       "      <td>(20894,)</td>\n",
       "      <td>1.86</td>\n",
       "    </tr>\n",
       "    <tr>\n",
       "      <th>4</th>\n",
       "      <td>Ag3Bi1I6</td>\n",
       "      <td>(23211,)</td>\n",
       "      <td>1.86</td>\n",
       "    </tr>\n",
       "  </tbody>\n",
       "</table>\n",
       "</div>"
      ],
      "text/plain": [
       "          formula     index  target\n",
       "0        Ag1Bi1I4   (9724,)    1.86\n",
       "1        Ag1Bi2I7   (3735,)    1.86\n",
       "2        Ag2Bi1I5  (18295,)    1.86\n",
       "3  Ag38Bi750I2375  (20894,)    1.86\n",
       "4        Ag3Bi1I6  (23211,)    1.86"
      ]
     },
     "execution_count": 6,
     "metadata": {},
     "output_type": "execute_result"
    }
   ],
   "source": [
    "# rename the column 'bandgap' to 'target'\n",
    "df.rename(columns={'bandgap': 'target'}, inplace=True)\n",
    "df_grouped_formula = groupby_formula(df, how='mean')\n",
    "df_grouped_formula.head()"
   ]
  },
  {
   "cell_type": "code",
   "execution_count": 7,
   "id": "55f596b6",
   "metadata": {},
   "outputs": [
    {
     "data": {
      "text/html": [
       "<div>\n",
       "<style scoped>\n",
       "    .dataframe tbody tr th:only-of-type {\n",
       "        vertical-align: middle;\n",
       "    }\n",
       "\n",
       "    .dataframe tbody tr th {\n",
       "        vertical-align: top;\n",
       "    }\n",
       "\n",
       "    .dataframe thead th {\n",
       "        text-align: right;\n",
       "    }\n",
       "</style>\n",
       "<table border=\"1\" class=\"dataframe\">\n",
       "  <thead>\n",
       "    <tr style=\"text-align: right;\">\n",
       "      <th></th>\n",
       "      <th>formula</th>\n",
       "      <th>index</th>\n",
       "      <th>target</th>\n",
       "    </tr>\n",
       "  </thead>\n",
       "  <tbody>\n",
       "    <tr>\n",
       "      <th>0</th>\n",
       "      <td>Ag1Bi1I4</td>\n",
       "      <td>(9724,)</td>\n",
       "      <td>1.860</td>\n",
       "    </tr>\n",
       "    <tr>\n",
       "      <th>1</th>\n",
       "      <td>Ag1Bi2I7</td>\n",
       "      <td>(3735,)</td>\n",
       "      <td>1.860</td>\n",
       "    </tr>\n",
       "    <tr>\n",
       "      <th>2</th>\n",
       "      <td>Ag2Bi1I5</td>\n",
       "      <td>(18295,)</td>\n",
       "      <td>1.860</td>\n",
       "    </tr>\n",
       "    <tr>\n",
       "      <th>3</th>\n",
       "      <td>Ag38Bi750I2375</td>\n",
       "      <td>(20894,)</td>\n",
       "      <td>1.860</td>\n",
       "    </tr>\n",
       "    <tr>\n",
       "      <th>4</th>\n",
       "      <td>Ag3Bi1I6</td>\n",
       "      <td>(23211,)</td>\n",
       "      <td>1.860</td>\n",
       "    </tr>\n",
       "    <tr>\n",
       "      <th>...</th>\n",
       "      <td>...</td>\n",
       "      <td>...</td>\n",
       "      <td>...</td>\n",
       "    </tr>\n",
       "    <tr>\n",
       "      <th>855</th>\n",
       "      <td>Sn7H60Pb3C10I30N10</td>\n",
       "      <td>(23551,)</td>\n",
       "      <td>1.170</td>\n",
       "    </tr>\n",
       "    <tr>\n",
       "      <th>856</th>\n",
       "      <td>Sn9H29C17I28N30</td>\n",
       "      <td>(27088,)</td>\n",
       "      <td>1.410</td>\n",
       "    </tr>\n",
       "    <tr>\n",
       "      <th>857</th>\n",
       "      <td>Sr1H120Pb19C20I60N20</td>\n",
       "      <td>(16958,)</td>\n",
       "      <td>1.632</td>\n",
       "    </tr>\n",
       "    <tr>\n",
       "      <th>858</th>\n",
       "      <td>Sr1H30Pb4C5I15N5</td>\n",
       "      <td>(23333,)</td>\n",
       "      <td>1.628</td>\n",
       "    </tr>\n",
       "    <tr>\n",
       "      <th>859</th>\n",
       "      <td>Sr1H60Pb9C10I30N10</td>\n",
       "      <td>(21989,)</td>\n",
       "      <td>1.630</td>\n",
       "    </tr>\n",
       "  </tbody>\n",
       "</table>\n",
       "<p>860 rows × 3 columns</p>\n",
       "</div>"
      ],
      "text/plain": [
       "                  formula     index  target\n",
       "0                Ag1Bi1I4   (9724,)   1.860\n",
       "1                Ag1Bi2I7   (3735,)   1.860\n",
       "2                Ag2Bi1I5  (18295,)   1.860\n",
       "3          Ag38Bi750I2375  (20894,)   1.860\n",
       "4                Ag3Bi1I6  (23211,)   1.860\n",
       "..                    ...       ...     ...\n",
       "855    Sn7H60Pb3C10I30N10  (23551,)   1.170\n",
       "856       Sn9H29C17I28N30  (27088,)   1.410\n",
       "857  Sr1H120Pb19C20I60N20  (16958,)   1.632\n",
       "858      Sr1H30Pb4C5I15N5  (23333,)   1.628\n",
       "859    Sr1H60Pb9C10I30N10  (21989,)   1.630\n",
       "\n",
       "[860 rows x 3 columns]"
      ]
     },
     "execution_count": 7,
     "metadata": {},
     "output_type": "execute_result"
    }
   ],
   "source": [
    "df_grouped_formula"
   ]
  },
  {
   "cell_type": "markdown",
   "id": "298d1714",
   "metadata": {},
   "source": [
    "Let's split this dataframe into a tran_df, a val_df and a test_df"
   ]
  },
  {
   "cell_type": "code",
   "execution_count": 8,
   "id": "e8d17dfc",
   "metadata": {},
   "outputs": [],
   "source": [
    "# randomize the dataframe and split into train_df, val_df and test_df in the ratio of 0.8, 0.1, 0.1\n",
    "train_df, val_df, test_df = \\\n",
    "              np.split(df_grouped_formula.sample(frac=1, random_state=42), \n",
    "                       [int(.8*len(df_grouped_formula)), int(.9*len(df_grouped_formula))])\n",
    "# train_df.head(), val_df.head(), test_df.head()"
   ]
  },
  {
   "cell_type": "markdown",
   "id": "15b49590",
   "metadata": {},
   "source": [
    "## Building our CrabNet model and fitting with our train dataframe `train_df` and validating with `val_df`"
   ]
  },
  {
   "cell_type": "code",
   "execution_count": 30,
   "id": "2a558208",
   "metadata": {},
   "outputs": [
    {
     "name": "stdout",
     "output_type": "stream",
     "text": [
      "\n",
      "Model architecture: out_dims, d_model, N, heads\n",
      "3, 512, 3, 4\n",
      "Running on compute device: cpu\n"
     ]
    },
    {
     "ename": "AssertionError",
     "evalue": "",
     "output_type": "error",
     "traceback": [
      "\u001b[1;31m---------------------------------------------------------------------------\u001b[0m",
      "\u001b[1;31mAssertionError\u001b[0m                            Traceback (most recent call last)",
      "\u001b[1;32m~\\AppData\\Local\\Temp/ipykernel_35564/1336471058.py\u001b[0m in \u001b[0;36m<module>\u001b[1;34m\u001b[0m\n\u001b[0;32m      1\u001b[0m \u001b[0mcb_eg_1\u001b[0m \u001b[1;33m=\u001b[0m \u001b[0mCrabNet\u001b[0m\u001b[1;33m(\u001b[0m\u001b[0mmat_prop\u001b[0m\u001b[1;33m=\u001b[0m\u001b[1;34m\"bandgap\"\u001b[0m\u001b[1;33m,\u001b[0m \u001b[0mmodel_name\u001b[0m\u001b[1;33m=\u001b[0m\u001b[1;34m'Perovskite_eg_1'\u001b[0m\u001b[1;33m)\u001b[0m\u001b[1;33m\u001b[0m\u001b[1;33m\u001b[0m\u001b[0m\n\u001b[1;32m----> 2\u001b[1;33m \u001b[0mcb_eg_1\u001b[0m\u001b[1;33m.\u001b[0m\u001b[0mload_network\u001b[0m\u001b[1;33m(\u001b[0m\u001b[0mmodel_data\u001b[0m\u001b[1;33m=\u001b[0m\u001b[1;34mr'Perovskite_eg_1.pth'\u001b[0m\u001b[1;33m)\u001b[0m\u001b[1;33m\u001b[0m\u001b[1;33m\u001b[0m\u001b[0m\n\u001b[0m",
      "\u001b[1;32m~\\AppData\\Roaming\\Python\\Python39\\site-packages\\crabnet\\crabnet_.py\u001b[0m in \u001b[0;36mload_network\u001b[1;34m(self, model_data)\u001b[0m\n\u001b[0;32m   1129\u001b[0m         \u001b[1;32melse\u001b[0m\u001b[1;33m:\u001b[0m\u001b[1;33m\u001b[0m\u001b[1;33m\u001b[0m\u001b[0m\n\u001b[0;32m   1130\u001b[0m             \u001b[0mnetwork\u001b[0m \u001b[1;33m=\u001b[0m \u001b[0mmodel_data\u001b[0m\u001b[1;33m\u001b[0m\u001b[1;33m\u001b[0m\u001b[0m\n\u001b[1;32m-> 1131\u001b[1;33m         \u001b[1;32massert\u001b[0m \u001b[0misinstance\u001b[0m\u001b[1;33m(\u001b[0m\u001b[0mself\u001b[0m\u001b[1;33m.\u001b[0m\u001b[0mmodel\u001b[0m\u001b[1;33m,\u001b[0m \u001b[0mSubCrab\u001b[0m\u001b[1;33m)\u001b[0m\u001b[1;33m\u001b[0m\u001b[1;33m\u001b[0m\u001b[0m\n\u001b[0m\u001b[0;32m   1132\u001b[0m         \u001b[0mbase_optim\u001b[0m \u001b[1;33m=\u001b[0m \u001b[0mLamb\u001b[0m\u001b[1;33m(\u001b[0m\u001b[0mparams\u001b[0m\u001b[1;33m=\u001b[0m\u001b[0mself\u001b[0m\u001b[1;33m.\u001b[0m\u001b[0mmodel\u001b[0m\u001b[1;33m.\u001b[0m\u001b[0mparameters\u001b[0m\u001b[1;33m(\u001b[0m\u001b[1;33m)\u001b[0m\u001b[1;33m)\u001b[0m\u001b[1;33m\u001b[0m\u001b[1;33m\u001b[0m\u001b[0m\n\u001b[0;32m   1133\u001b[0m         \u001b[0moptimizer\u001b[0m \u001b[1;33m=\u001b[0m \u001b[0mLookahead\u001b[0m\u001b[1;33m(\u001b[0m\u001b[0mbase_optimizer\u001b[0m\u001b[1;33m=\u001b[0m\u001b[0mbase_optim\u001b[0m\u001b[1;33m)\u001b[0m\u001b[1;33m\u001b[0m\u001b[1;33m\u001b[0m\u001b[0m\n",
      "\u001b[1;31mAssertionError\u001b[0m: "
     ]
    }
   ],
   "source": [
    "# cb_eg_1 = CrabNet(mat_prop=\"bandgap\", model_name='Perovskite_eg_1')\n",
    "# cb_eg_1.load_network(model_data=r'Perovskite_eg_1.pth')"
   ]
  },
  {
   "cell_type": "markdown",
   "id": "8aecdb8c",
   "metadata": {},
   "source": [
    "It took 20 minutes to run the cell bellow."
   ]
  },
  {
   "cell_type": "code",
   "execution_count": 10,
   "id": "c0bc4809",
   "metadata": {},
   "outputs": [
    {
     "name": "stdout",
     "output_type": "stream",
     "text": [
      "\n",
      "Model architecture: out_dims, d_model, N, heads\n",
      "3, 512, 3, 4\n",
      "Running on compute device: cpu\n",
      "Model size: 11987206 parameters\n",
      "\n"
     ]
    },
    {
     "name": "stderr",
     "output_type": "stream",
     "text": [
      "Generating EDM: 100%|██████████| 688/688 [00:00<00:00, 84505.13formulae/s]\n"
     ]
    },
    {
     "name": "stdout",
     "output_type": "stream",
     "text": [
      "loading data with up to 8 elements in the formula\n",
      "training with batchsize 128 (2**7.000)\n"
     ]
    },
    {
     "name": "stderr",
     "output_type": "stream",
     "text": [
      "Generating EDM: 100%|██████████| 86/86 [00:00<00:00, 86088.34formulae/s]\n"
     ]
    },
    {
     "name": "stdout",
     "output_type": "stream",
     "text": [
      "loading data with up to 8 elements in the formula\n",
      "stepping every 60 training passes, cycling lr every 10 epochs\n",
      "running for 300 epochs, unless early stopping occurs\n",
      "checkin at 20 epochs to match lr scheduler\n",
      "Epoch: 0/300 --- train mae: 0.204 val mae: 0.167\n"
     ]
    },
    {
     "data": {
      "image/png": "[encoded data removed]",
      "text/plain": [
       "<Figure size 576x360 with 1 Axes>"
      ]
     },
     "metadata": {
      "needs_background": "light"
     },
     "output_type": "display_data"
    },
    {
     "name": "stdout",
     "output_type": "stream",
     "text": [
      "Epoch: 19/300 --- train mae: 0.0864 val mae: 0.1\n"
     ]
    },
    {
     "data": {
      "image/png": "[encoded data removed]",
      "text/plain": [
       "<Figure size 432x288 with 1 Axes>"
      ]
     },
     "metadata": {
      "needs_background": "light"
     },
     "output_type": "display_data"
    },
    {
     "name": "stdout",
     "output_type": "stream",
     "text": [
      "Epoch: 39/300 --- train mae: 0.0415 val mae: 0.075\n"
     ]
    },
    {
     "data": {
      "image/png": "[encoded data removed]",
      "text/plain": [
       "<Figure size 432x288 with 1 Axes>"
      ]
     },
     "metadata": {
      "needs_background": "light"
     },
     "output_type": "display_data"
    },
    {
     "name": "stdout",
     "output_type": "stream",
     "text": [
      "Epoch: 59/300 --- train mae: 0.0292 val mae: 0.0666\n"
     ]
    },
    {
     "data": {
      "image/png": "[encoded data removed]",
      "text/plain": [
       "<Figure size 432x288 with 1 Axes>"
      ]
     },
     "metadata": {
      "needs_background": "light"
     },
     "output_type": "display_data"
    },
    {
     "name": "stdout",
     "output_type": "stream",
     "text": [
      "Epoch 79 failed to improve.\n",
      "Discarded: 1/3 weight updates\n",
      "Epoch: 79/300 --- train mae: 0.0235 val mae: 0.0686\n"
     ]
    },
    {
     "data": {
      "image/png": "[encoded data removed]",
      "text/plain": [
       "<Figure size 432x288 with 1 Axes>"
      ]
     },
     "metadata": {
      "needs_background": "light"
     },
     "output_type": "display_data"
    },
    {
     "name": "stdout",
     "output_type": "stream",
     "text": [
      "Epoch: 99/300 --- train mae: 0.0179 val mae: 0.0664\n"
     ]
    },
    {
     "data": {
      "image/png": "[encoded data removed]",
      "text/plain": [
       "<Figure size 432x288 with 1 Axes>"
      ]
     },
     "metadata": {
      "needs_background": "light"
     },
     "output_type": "display_data"
    },
    {
     "name": "stdout",
     "output_type": "stream",
     "text": [
      "Epoch 119 failed to improve.\n",
      "Discarded: 2/3 weight updates\n",
      "Epoch: 119/300 --- train mae: 0.0156 val mae: 0.0681\n"
     ]
    },
    {
     "data": {
      "image/png": "[encoded data removed]",
      "text/plain": [
       "<Figure size 432x288 with 1 Axes>"
      ]
     },
     "metadata": {
      "needs_background": "light"
     },
     "output_type": "display_data"
    },
    {
     "name": "stdout",
     "output_type": "stream",
     "text": [
      "Epoch: 139/300 --- train mae: 0.014 val mae: 0.0664\n"
     ]
    },
    {
     "data": {
      "image/png": "[encoded data removed]",
      "text/plain": [
       "<Figure size 432x288 with 1 Axes>"
      ]
     },
     "metadata": {
      "needs_background": "light"
     },
     "output_type": "display_data"
    },
    {
     "name": "stdout",
     "output_type": "stream",
     "text": [
      "Epoch: 159/300 --- train mae: 0.0134 val mae: 0.0645\n"
     ]
    },
    {
     "data": {
      "image/png": "[encoded data removed]",
      "text/plain": [
       "<Figure size 432x288 with 1 Axes>"
      ]
     },
     "metadata": {
      "needs_background": "light"
     },
     "output_type": "display_data"
    },
    {
     "name": "stdout",
     "output_type": "stream",
     "text": [
      "Epoch: 179/300 --- train mae: 0.0118 val mae: 0.0645\n"
     ]
    },
    {
     "data": {
      "image/png": "[encoded data removed]",
      "text/plain": [
       "<Figure size 432x288 with 1 Axes>"
      ]
     },
     "metadata": {
      "needs_background": "light"
     },
     "output_type": "display_data"
    },
    {
     "name": "stdout",
     "output_type": "stream",
     "text": [
      "Epoch: 199/300 --- train mae: 0.0112 val mae: 0.0592\n"
     ]
    },
    {
     "data": {
      "image/png": "[encoded data removed]",
      "text/plain": [
       "<Figure size 432x288 with 1 Axes>"
      ]
     },
     "metadata": {
      "needs_background": "light"
     },
     "output_type": "display_data"
    },
    {
     "name": "stdout",
     "output_type": "stream",
     "text": [
      "Epoch: 219/300 --- train mae: 0.0105 val mae: 0.0582\n"
     ]
    },
    {
     "data": {
      "image/png": "[encoded data removed]",
      "text/plain": [
       "<Figure size 432x288 with 1 Axes>"
      ]
     },
     "metadata": {
      "needs_background": "light"
     },
     "output_type": "display_data"
    },
    {
     "name": "stdout",
     "output_type": "stream",
     "text": [
      "Epoch: 239/300 --- train mae: 0.00991 val mae: 0.0587\n"
     ]
    },
    {
     "data": {
      "image/png": "[encoded data removed]",
      "text/plain": [
       "<Figure size 432x288 with 1 Axes>"
      ]
     },
     "metadata": {
      "needs_background": "light"
     },
     "output_type": "display_data"
    },
    {
     "name": "stdout",
     "output_type": "stream",
     "text": [
      "Epoch: 259/300 --- train mae: 0.0103 val mae: 0.0592\n"
     ]
    },
    {
     "data": {
      "image/png": "[encoded data removed]",
      "text/plain": [
       "<Figure size 432x288 with 1 Axes>"
      ]
     },
     "metadata": {
      "needs_background": "light"
     },
     "output_type": "display_data"
    },
    {
     "name": "stdout",
     "output_type": "stream",
     "text": [
      "Epoch: 279/300 --- train mae: 0.00977 val mae: 0.0553\n"
     ]
    },
    {
     "data": {
      "image/png": "[encoded data removed]",
      "text/plain": [
       "<Figure size 432x288 with 1 Axes>"
      ]
     },
     "metadata": {
      "needs_background": "light"
     },
     "output_type": "display_data"
    },
    {
     "name": "stdout",
     "output_type": "stream",
     "text": [
      "Epoch 299 failed to improve.\n",
      "Discarded: 3/3 weight updates\n",
      "Epoch: 299/300 --- train mae: 0.00898 val mae: 0.0582\n"
     ]
    },
    {
     "data": {
      "image/png": "[encoded data removed]",
      "text/plain": [
       "<Figure size 432x288 with 1 Axes>"
      ]
     },
     "metadata": {
      "needs_background": "light"
     },
     "output_type": "display_data"
    },
    {
     "name": "stdout",
     "output_type": "stream",
     "text": [
      "Discarded: 3/3weight updates, early-stopping now\n",
      "Saving network (Perovskite_eg_1) to models\\trained_models\\Perovskite_eg_1.pth\n"
     ]
    }
   ],
   "source": [
    "cb_eg_1 = CrabNet(mat_prop=\"bandgap\", model_name='Perovskite_eg_1', elem_prop='mat2vec', learningcurve=False)\n",
    "cb_eg_1.fit(train_df, val_df)"
   ]
  },
  {
   "cell_type": "code",
   "execution_count": 11,
   "id": "cc13aa4c",
   "metadata": {},
   "outputs": [],
   "source": []
  },
  {
   "cell_type": "code",
   "execution_count": 14,
   "id": "d31e815c",
   "metadata": {},
   "outputs": [
    {
     "name": "stderr",
     "output_type": "stream",
     "text": [
      "Generating EDM: 100%|██████████| 688/688 [00:00<00:00, 66406.19formulae/s]\n"
     ]
    },
    {
     "name": "stdout",
     "output_type": "stream",
     "text": [
      "loading data with up to 8 elements in the formula\n"
     ]
    }
   ],
   "source": []
  },
  {
   "cell_type": "markdown",
   "id": "2c3cd78c",
   "metadata": {},
   "source": [
    "### Checking how the model performs with val data and test data `test_df`. "
   ]
  },
  {
   "cell_type": "markdown",
   "id": "3f86c3c8",
   "metadata": {},
   "source": [
    "Lets evaluate now the model in the train data, validation data and the test data.  \n",
    "Let's start by importing some utilities from crabnet and sklearn."
   ]
  },
  {
   "cell_type": "code",
   "execution_count": 11,
   "id": "477038ac",
   "metadata": {},
   "outputs": [],
   "source": [
    "from crabnet.utils.figures import act_pred\n",
    "from sklearn.metrics import r2_score\n",
    "from sklearn.metrics import mean_squared_error\n",
    "from sklearn.metrics import mean_absolute_error"
   ]
  },
  {
   "cell_type": "code",
   "execution_count": 12,
   "id": "1b2ecfd0",
   "metadata": {},
   "outputs": [
    {
     "name": "stderr",
     "output_type": "stream",
     "text": [
      "Generating EDM: 100%|██████████| 688/688 [00:00<00:00, 109248.17formulae/s]\n"
     ]
    },
    {
     "name": "stdout",
     "output_type": "stream",
     "text": [
      "loading data with up to 8 elements in the formula\n"
     ]
    },
    {
     "data": {
      "image/png": "[encoded data removed]",
      "text/plain": [
       "<Figure size 288x288 with 3 Axes>"
      ]
     },
     "metadata": {
      "needs_background": "light"
     },
     "output_type": "display_data"
    },
    {
     "name": "stdout",
     "output_type": "stream",
     "text": [
      "R2 score: 0.9950214812602542\n",
      "MSE: 0.000404015277209653\n",
      "MAE: 0.009799302782082216 eV\n"
     ]
    }
   ],
   "source": [
    "# Train data\n",
    "train_df_zeros = pd.DataFrame(({\"formula\": train_df['formula'], \"target\": [0.0]*len(train_df['formula'])}))\n",
    "train_df_predicted, train_df_predicted_sigma = cb_eg_1.predict(train_df_zeros, return_uncertainty=True)\n",
    "\n",
    "act_pred(train_df['target'], train_df_predicted)\n",
    "r2 = r2_score(train_df['target'], train_df_predicted)\n",
    "print(f'R2 score: {r2}')\n",
    "mse = mean_squared_error(train_df['target'], train_df_predicted)\n",
    "print(f'MSE: {mse}')\n",
    "mae = mean_absolute_error(train_df['target'], train_df_predicted)\n",
    "print(f'MAE: {mae} eV')"
   ]
  },
  {
   "cell_type": "code",
   "execution_count": 13,
   "id": "aedeeb8a",
   "metadata": {},
   "outputs": [
    {
     "name": "stderr",
     "output_type": "stream",
     "text": [
      "Generating EDM: 100%|██████████| 86/86 [00:00<?, ?formulae/s]\n"
     ]
    },
    {
     "name": "stdout",
     "output_type": "stream",
     "text": [
      "loading data with up to 8 elements in the formula\n"
     ]
    },
    {
     "data": {
      "image/png": "[encoded data removed]",
      "text/plain": [
       "<Figure size 288x288 with 3 Axes>"
      ]
     },
     "metadata": {
      "needs_background": "light"
     },
     "output_type": "display_data"
    },
    {
     "name": "stdout",
     "output_type": "stream",
     "text": [
      "R2 score: 0.829594788833613\n",
      "MSE: 0.010257591178010261\n",
      "MAE: 0.05550914943836619 eV\n"
     ]
    }
   ],
   "source": [
    "# Validation data\n",
    "val_df_zeros = pd.DataFrame(({\"formula\": val_df['formula'], \"target\": [0.0]*len(val_df['formula'])}))\n",
    "val_df_predicted, val_df_predicted_sigma = cb_eg_1.predict(val_df_zeros, return_uncertainty=True)\n",
    "\n",
    "act_pred(val_df['target'], val_df_predicted)\n",
    "r2 = r2_score(val_df['target'], val_df_predicted)\n",
    "print(f'R2 score: {r2}')\n",
    "mse = mean_squared_error(val_df['target'], val_df_predicted)\n",
    "print(f'MSE: {mse}')\n",
    "mae = mean_absolute_error(val_df['target'], val_df_predicted)\n",
    "print(f'MAE: {mae} eV')"
   ]
  },
  {
   "cell_type": "code",
   "execution_count": 127,
   "id": "79489e1e",
   "metadata": {},
   "outputs": [
    {
     "name": "stderr",
     "output_type": "stream",
     "text": [
      "Generating EDM: 100%|██████████| 86/86 [00:00<00:00, 5122.34formulae/s]\n"
     ]
    },
    {
     "name": "stdout",
     "output_type": "stream",
     "text": [
      "loading data with up to 8 elements in the formula\n"
     ]
    },
    {
     "data": {
      "image/png": "[encoded data removed]",
      "text/plain": [
       "<Figure size 288x288 with 3 Axes>"
      ]
     },
     "metadata": {
      "needs_background": "light"
     },
     "output_type": "display_data"
    },
    {
     "name": "stdout",
     "output_type": "stream",
     "text": [
      "R2 score: 0.6355629348802752\n",
      "MSE: 0.026118840343689345\n",
      "MAE: 0.07943260222008672 eV\n"
     ]
    }
   ],
   "source": [
    "# Test data\n",
    "\n",
    "test_df_zeros = pd.DataFrame(({\"formula\": test_df['formula'], \"target\": [0.0]*len(test_df['formula'])}))\n",
    "test_df_predicted, test_df_predicted_sigma = cb_eg_1.predict(test_df_zeros, return_uncertainty=True)\n",
    "\n",
    "\n",
    "act_pred(test_df['target'], test_df_predicted)\n",
    "\n",
    "r2 = r2_score(test_df['target'], test_df_predicted)\n",
    "print(f'R2 score: {r2}')\n",
    "mse = mean_squared_error(test_df['target'], test_df_predicted)\n",
    "print(f'MSE: {mse}')\n",
    "mae = mean_absolute_error(test_df['target'], test_df_predicted)\n",
    "print(f'MAE: {mae} eV')"
   ]
  },
  {
   "cell_type": "code",
   "execution_count": 29,
   "id": "a47f6bac",
   "metadata": {},
   "outputs": [
    {
     "data": {
      "text/html": [
       "<div>\n",
       "<style scoped>\n",
       "    .dataframe tbody tr th:only-of-type {\n",
       "        vertical-align: middle;\n",
       "    }\n",
       "\n",
       "    .dataframe tbody tr th {\n",
       "        vertical-align: top;\n",
       "    }\n",
       "\n",
       "    .dataframe thead th {\n",
       "        text-align: right;\n",
       "    }\n",
       "</style>\n",
       "<table border=\"1\" class=\"dataframe\">\n",
       "  <thead>\n",
       "    <tr style=\"text-align: right;\">\n",
       "      <th></th>\n",
       "      <th>formula</th>\n",
       "      <th>index</th>\n",
       "      <th>target</th>\n",
       "      <th>predicted_bandgap</th>\n",
       "      <th>target_vs_predicted</th>\n",
       "      <th>rms_target_vs_predicted</th>\n",
       "    </tr>\n",
       "  </thead>\n",
       "  <tbody>\n",
       "    <tr>\n",
       "      <th>600</th>\n",
       "      <td>H41Pb1C4I4N1</td>\n",
       "      <td>(4514, 14233)</td>\n",
       "      <td>2.335000</td>\n",
       "      <td>1.595622</td>\n",
       "      <td>0.739378</td>\n",
       "      <td>0.739378</td>\n",
       "    </tr>\n",
       "    <tr>\n",
       "      <th>130</th>\n",
       "      <td>Cs1H50Pb10C10Br30N209</td>\n",
       "      <td>(25878,)</td>\n",
       "      <td>2.277000</td>\n",
       "      <td>1.639064</td>\n",
       "      <td>0.637936</td>\n",
       "      <td>0.637936</td>\n",
       "    </tr>\n",
       "    <tr>\n",
       "      <th>702</th>\n",
       "      <td>H777Pb20C40I9Br51N423</td>\n",
       "      <td>(2126, 3078, 4521, 11591, 18741, 25454)</td>\n",
       "      <td>1.530000</td>\n",
       "      <td>2.166179</td>\n",
       "      <td>0.636179</td>\n",
       "      <td>0.636179</td>\n",
       "    </tr>\n",
       "    <tr>\n",
       "      <th>681</th>\n",
       "      <td>H71Pb4C7I13N2</td>\n",
       "      <td>(11300,)</td>\n",
       "      <td>1.730000</td>\n",
       "      <td>2.208325</td>\n",
       "      <td>0.478325</td>\n",
       "      <td>0.478325</td>\n",
       "    </tr>\n",
       "    <tr>\n",
       "      <th>466</th>\n",
       "      <td>H16Pb1C6I4N2</td>\n",
       "      <td>(29506,)</td>\n",
       "      <td>2.440000</td>\n",
       "      <td>1.997241</td>\n",
       "      <td>0.442759</td>\n",
       "      <td>0.442759</td>\n",
       "    </tr>\n",
       "    <tr>\n",
       "      <th>343</th>\n",
       "      <td>Cs5H3816Pb100C200I249Br251N2179</td>\n",
       "      <td>(1236, 1899, 7079, 13792, 16045)</td>\n",
       "      <td>1.632000</td>\n",
       "      <td>1.990246</td>\n",
       "      <td>0.358245</td>\n",
       "      <td>0.358245</td>\n",
       "    </tr>\n",
       "    <tr>\n",
       "      <th>166</th>\n",
       "      <td>Cs1Sn1I2Br1</td>\n",
       "      <td>(8505,)</td>\n",
       "      <td>1.370000</td>\n",
       "      <td>1.653651</td>\n",
       "      <td>0.283651</td>\n",
       "      <td>0.283651</td>\n",
       "    </tr>\n",
       "    <tr>\n",
       "      <th>661</th>\n",
       "      <td>H61Pb5C17I16N3</td>\n",
       "      <td>(1915, 2071, 3065, 4022, 4456, 5771, 6010, 108...</td>\n",
       "      <td>1.643684</td>\n",
       "      <td>1.827978</td>\n",
       "      <td>0.184294</td>\n",
       "      <td>0.184294</td>\n",
       "    </tr>\n",
       "    <tr>\n",
       "      <th>782</th>\n",
       "      <td>Sn1H6C1N1Cl3</td>\n",
       "      <td>(5709, 9692, 10928, 11841, 12376, 22516, 23042)</td>\n",
       "      <td>2.304286</td>\n",
       "      <td>2.482388</td>\n",
       "      <td>0.178102</td>\n",
       "      <td>0.178102</td>\n",
       "    </tr>\n",
       "    <tr>\n",
       "      <th>243</th>\n",
       "      <td>Cs30H120Pb40C80I91Br39N20</td>\n",
       "      <td>(10569,)</td>\n",
       "      <td>1.900000</td>\n",
       "      <td>1.761499</td>\n",
       "      <td>0.138501</td>\n",
       "      <td>0.138501</td>\n",
       "    </tr>\n",
       "    <tr>\n",
       "      <th>435</th>\n",
       "      <td>H11Pb1C2I3N3</td>\n",
       "      <td>(2313, 6897, 8002, 24774, 25221, 27551, 28959)</td>\n",
       "      <td>1.540572</td>\n",
       "      <td>1.654660</td>\n",
       "      <td>0.114088</td>\n",
       "      <td>0.114088</td>\n",
       "    </tr>\n",
       "    <tr>\n",
       "      <th>160</th>\n",
       "      <td>Cs1Rb1H1530Pb40C80I120N868</td>\n",
       "      <td>(5462, 18801)</td>\n",
       "      <td>1.510000</td>\n",
       "      <td>1.620941</td>\n",
       "      <td>0.110940</td>\n",
       "      <td>0.110940</td>\n",
       "    </tr>\n",
       "    <tr>\n",
       "      <th>459</th>\n",
       "      <td>H153Pb4C8I9Br3N87</td>\n",
       "      <td>(1093, 9159)</td>\n",
       "      <td>1.610000</td>\n",
       "      <td>1.720712</td>\n",
       "      <td>0.110712</td>\n",
       "      <td>0.110712</td>\n",
       "    </tr>\n",
       "    <tr>\n",
       "      <th>201</th>\n",
       "      <td>Cs25H1250Pb250C250I186Br64N5225</td>\n",
       "      <td>(17711,)</td>\n",
       "      <td>1.720000</td>\n",
       "      <td>1.610225</td>\n",
       "      <td>0.109775</td>\n",
       "      <td>0.109775</td>\n",
       "    </tr>\n",
       "    <tr>\n",
       "      <th>491</th>\n",
       "      <td>H20Pb4C4Br9N8Cl3</td>\n",
       "      <td>(13460,)</td>\n",
       "      <td>2.390000</td>\n",
       "      <td>2.285665</td>\n",
       "      <td>0.104335</td>\n",
       "      <td>0.104335</td>\n",
       "    </tr>\n",
       "    <tr>\n",
       "      <th>13</th>\n",
       "      <td>Bi2H36C1I9N1</td>\n",
       "      <td>(22243,)</td>\n",
       "      <td>2.100000</td>\n",
       "      <td>2.192698</td>\n",
       "      <td>0.092697</td>\n",
       "      <td>0.092697</td>\n",
       "    </tr>\n",
       "    <tr>\n",
       "      <th>835</th>\n",
       "      <td>Sn5H120Pb15C20I42Br18N20</td>\n",
       "      <td>(26955,)</td>\n",
       "      <td>1.530000</td>\n",
       "      <td>1.611848</td>\n",
       "      <td>0.081848</td>\n",
       "      <td>0.081848</td>\n",
       "    </tr>\n",
       "    <tr>\n",
       "      <th>700</th>\n",
       "      <td>H774Pb20C40I57Br3N426</td>\n",
       "      <td>(15084,)</td>\n",
       "      <td>1.600000</td>\n",
       "      <td>1.520830</td>\n",
       "      <td>0.079170</td>\n",
       "      <td>0.079170</td>\n",
       "    </tr>\n",
       "    <tr>\n",
       "      <th>842</th>\n",
       "      <td>Sn5H30C5I9Br6N5</td>\n",
       "      <td>(24655,)</td>\n",
       "      <td>1.600000</td>\n",
       "      <td>1.521821</td>\n",
       "      <td>0.078179</td>\n",
       "      <td>0.078179</td>\n",
       "    </tr>\n",
       "    <tr>\n",
       "      <th>58</th>\n",
       "      <td>Cs10Zn1Pb9I10Br20</td>\n",
       "      <td>(5763,)</td>\n",
       "      <td>1.880000</td>\n",
       "      <td>1.956561</td>\n",
       "      <td>0.076561</td>\n",
       "      <td>0.076561</td>\n",
       "    </tr>\n",
       "    <tr>\n",
       "      <th>769</th>\n",
       "      <td>Sn1H389Pb9C20I30N211</td>\n",
       "      <td>(18783,)</td>\n",
       "      <td>1.440000</td>\n",
       "      <td>1.364505</td>\n",
       "      <td>0.075495</td>\n",
       "      <td>0.075495</td>\n",
       "    </tr>\n",
       "    <tr>\n",
       "      <th>205</th>\n",
       "      <td>Cs25H625Pb125C125I93Br32N2600</td>\n",
       "      <td>(8440,)</td>\n",
       "      <td>1.710000</td>\n",
       "      <td>1.636192</td>\n",
       "      <td>0.073808</td>\n",
       "      <td>0.073808</td>\n",
       "    </tr>\n",
       "    <tr>\n",
       "      <th>276</th>\n",
       "      <td>Cs3H764Pb20C40I48Br12N433</td>\n",
       "      <td>(24499, 28938)</td>\n",
       "      <td>1.680000</td>\n",
       "      <td>1.614713</td>\n",
       "      <td>0.065287</td>\n",
       "      <td>0.065287</td>\n",
       "    </tr>\n",
       "    <tr>\n",
       "      <th>614</th>\n",
       "      <td>H49Pb3C7I10N3</td>\n",
       "      <td>(18923,)</td>\n",
       "      <td>1.990000</td>\n",
       "      <td>1.926166</td>\n",
       "      <td>0.063834</td>\n",
       "      <td>0.063834</td>\n",
       "    </tr>\n",
       "    <tr>\n",
       "      <th>699</th>\n",
       "      <td>H774Pb20C40I51Br9N426</td>\n",
       "      <td>(23644,)</td>\n",
       "      <td>1.660000</td>\n",
       "      <td>1.596504</td>\n",
       "      <td>0.063496</td>\n",
       "      <td>0.063496</td>\n",
       "    </tr>\n",
       "    <tr>\n",
       "      <th>413</th>\n",
       "      <td>Cs9H1894Pb400C240I1054Br186N1217F240</td>\n",
       "      <td>(23904,)</td>\n",
       "      <td>1.739000</td>\n",
       "      <td>1.679731</td>\n",
       "      <td>0.059270</td>\n",
       "      <td>0.059270</td>\n",
       "    </tr>\n",
       "    <tr>\n",
       "      <th>21</th>\n",
       "      <td>Cs100H19168Pb500C1000I975Br525N10832</td>\n",
       "      <td>(27908,)</td>\n",
       "      <td>1.770000</td>\n",
       "      <td>1.712801</td>\n",
       "      <td>0.057199</td>\n",
       "      <td>0.057199</td>\n",
       "    </tr>\n",
       "    <tr>\n",
       "      <th>252</th>\n",
       "      <td>Cs3Bi2I9</td>\n",
       "      <td>(2228, 2815, 7152, 7557, 7910, 8553, 8898, 102...</td>\n",
       "      <td>2.026667</td>\n",
       "      <td>1.972202</td>\n",
       "      <td>0.054465</td>\n",
       "      <td>0.054465</td>\n",
       "    </tr>\n",
       "    <tr>\n",
       "      <th>1</th>\n",
       "      <td>Ag1Bi2I7</td>\n",
       "      <td>(3735,)</td>\n",
       "      <td>1.860000</td>\n",
       "      <td>1.807000</td>\n",
       "      <td>0.053000</td>\n",
       "      <td>0.053000</td>\n",
       "    </tr>\n",
       "    <tr>\n",
       "      <th>389</th>\n",
       "      <td>Cs75H1250Pb250C250I186Br64N5175</td>\n",
       "      <td>(8380,)</td>\n",
       "      <td>1.720000</td>\n",
       "      <td>1.669206</td>\n",
       "      <td>0.050794</td>\n",
       "      <td>0.050794</td>\n",
       "    </tr>\n",
       "    <tr>\n",
       "      <th>121</th>\n",
       "      <td>Cs1H25Pb5C5I9Br6N104</td>\n",
       "      <td>(2300, 7045, 19720)</td>\n",
       "      <td>1.803334</td>\n",
       "      <td>1.753498</td>\n",
       "      <td>0.049836</td>\n",
       "      <td>0.049836</td>\n",
       "    </tr>\n",
       "    <tr>\n",
       "      <th>189</th>\n",
       "      <td>Cs21K4Pb25Br75</td>\n",
       "      <td>(7180,)</td>\n",
       "      <td>2.240000</td>\n",
       "      <td>2.288437</td>\n",
       "      <td>0.048437</td>\n",
       "      <td>0.048437</td>\n",
       "    </tr>\n",
       "    <tr>\n",
       "      <th>476</th>\n",
       "      <td>H191Pb5C10I12Br3N109</td>\n",
       "      <td>(4653, 4710, 6415, 7155, 8599, 10176, 11495, 1...</td>\n",
       "      <td>1.579546</td>\n",
       "      <td>1.627403</td>\n",
       "      <td>0.047857</td>\n",
       "      <td>0.047857</td>\n",
       "    </tr>\n",
       "    <tr>\n",
       "      <th>484</th>\n",
       "      <td>H193Pb5C10I12Br3N107</td>\n",
       "      <td>(6903, 11440)</td>\n",
       "      <td>1.680000</td>\n",
       "      <td>1.635536</td>\n",
       "      <td>0.044464</td>\n",
       "      <td>0.044464</td>\n",
       "    </tr>\n",
       "    <tr>\n",
       "      <th>646</th>\n",
       "      <td>H600Pb100C100I267Br33N100</td>\n",
       "      <td>(7956, 11100, 14959, 15763, 16573, 18217, 2067...</td>\n",
       "      <td>1.626667</td>\n",
       "      <td>1.582465</td>\n",
       "      <td>0.044202</td>\n",
       "      <td>0.044202</td>\n",
       "    </tr>\n",
       "    <tr>\n",
       "      <th>560</th>\n",
       "      <td>H3817Pb100C200I50Br250N2183</td>\n",
       "      <td>(2555,)</td>\n",
       "      <td>2.113000</td>\n",
       "      <td>2.156703</td>\n",
       "      <td>0.043702</td>\n",
       "      <td>0.043702</td>\n",
       "    </tr>\n",
       "    <tr>\n",
       "      <th>273</th>\n",
       "      <td>Cs3H677Pb20C20I60N20</td>\n",
       "      <td>(4605,)</td>\n",
       "      <td>1.590000</td>\n",
       "      <td>1.633197</td>\n",
       "      <td>0.043197</td>\n",
       "      <td>0.043197</td>\n",
       "    </tr>\n",
       "    <tr>\n",
       "      <th>771</th>\n",
       "      <td>Sn1H48Pb7C8I24N8</td>\n",
       "      <td>(27600,)</td>\n",
       "      <td>1.420000</td>\n",
       "      <td>1.377886</td>\n",
       "      <td>0.042114</td>\n",
       "      <td>0.042114</td>\n",
       "    </tr>\n",
       "    <tr>\n",
       "      <th>385</th>\n",
       "      <td>Cs6H3816Pb100C200I249Br51N2178</td>\n",
       "      <td>(1306,)</td>\n",
       "      <td>1.630000</td>\n",
       "      <td>1.589370</td>\n",
       "      <td>0.040630</td>\n",
       "      <td>0.040630</td>\n",
       "    </tr>\n",
       "    <tr>\n",
       "      <th>330</th>\n",
       "      <td>Cs5H3812Pb100C200I249Br51N2183</td>\n",
       "      <td>(3933,)</td>\n",
       "      <td>1.630000</td>\n",
       "      <td>1.589808</td>\n",
       "      <td>0.040192</td>\n",
       "      <td>0.040192</td>\n",
       "    </tr>\n",
       "  </tbody>\n",
       "</table>\n",
       "</div>"
      ],
      "text/plain": [
       "                                  formula  \\\n",
       "600                          H41Pb1C4I4N1   \n",
       "130                 Cs1H50Pb10C10Br30N209   \n",
       "702                 H777Pb20C40I9Br51N423   \n",
       "681                         H71Pb4C7I13N2   \n",
       "466                          H16Pb1C6I4N2   \n",
       "343       Cs5H3816Pb100C200I249Br251N2179   \n",
       "166                           Cs1Sn1I2Br1   \n",
       "661                        H61Pb5C17I16N3   \n",
       "782                          Sn1H6C1N1Cl3   \n",
       "243             Cs30H120Pb40C80I91Br39N20   \n",
       "435                          H11Pb1C2I3N3   \n",
       "160            Cs1Rb1H1530Pb40C80I120N868   \n",
       "459                     H153Pb4C8I9Br3N87   \n",
       "201       Cs25H1250Pb250C250I186Br64N5225   \n",
       "491                      H20Pb4C4Br9N8Cl3   \n",
       "13                           Bi2H36C1I9N1   \n",
       "835              Sn5H120Pb15C20I42Br18N20   \n",
       "700                 H774Pb20C40I57Br3N426   \n",
       "842                       Sn5H30C5I9Br6N5   \n",
       "58                      Cs10Zn1Pb9I10Br20   \n",
       "769                  Sn1H389Pb9C20I30N211   \n",
       "205         Cs25H625Pb125C125I93Br32N2600   \n",
       "276             Cs3H764Pb20C40I48Br12N433   \n",
       "614                         H49Pb3C7I10N3   \n",
       "699                 H774Pb20C40I51Br9N426   \n",
       "413  Cs9H1894Pb400C240I1054Br186N1217F240   \n",
       "21   Cs100H19168Pb500C1000I975Br525N10832   \n",
       "252                              Cs3Bi2I9   \n",
       "1                                Ag1Bi2I7   \n",
       "389       Cs75H1250Pb250C250I186Br64N5175   \n",
       "121                  Cs1H25Pb5C5I9Br6N104   \n",
       "189                        Cs21K4Pb25Br75   \n",
       "476                  H191Pb5C10I12Br3N109   \n",
       "484                  H193Pb5C10I12Br3N107   \n",
       "646             H600Pb100C100I267Br33N100   \n",
       "560           H3817Pb100C200I50Br250N2183   \n",
       "273                  Cs3H677Pb20C20I60N20   \n",
       "771                      Sn1H48Pb7C8I24N8   \n",
       "385        Cs6H3816Pb100C200I249Br51N2178   \n",
       "330        Cs5H3812Pb100C200I249Br51N2183   \n",
       "\n",
       "                                                 index    target  \\\n",
       "600                                      (4514, 14233)  2.335000   \n",
       "130                                           (25878,)  2.277000   \n",
       "702            (2126, 3078, 4521, 11591, 18741, 25454)  1.530000   \n",
       "681                                           (11300,)  1.730000   \n",
       "466                                           (29506,)  2.440000   \n",
       "343                   (1236, 1899, 7079, 13792, 16045)  1.632000   \n",
       "166                                            (8505,)  1.370000   \n",
       "661  (1915, 2071, 3065, 4022, 4456, 5771, 6010, 108...  1.643684   \n",
       "782    (5709, 9692, 10928, 11841, 12376, 22516, 23042)  2.304286   \n",
       "243                                           (10569,)  1.900000   \n",
       "435     (2313, 6897, 8002, 24774, 25221, 27551, 28959)  1.540572   \n",
       "160                                      (5462, 18801)  1.510000   \n",
       "459                                       (1093, 9159)  1.610000   \n",
       "201                                           (17711,)  1.720000   \n",
       "491                                           (13460,)  2.390000   \n",
       "13                                            (22243,)  2.100000   \n",
       "835                                           (26955,)  1.530000   \n",
       "700                                           (15084,)  1.600000   \n",
       "842                                           (24655,)  1.600000   \n",
       "58                                             (5763,)  1.880000   \n",
       "769                                           (18783,)  1.440000   \n",
       "205                                            (8440,)  1.710000   \n",
       "276                                     (24499, 28938)  1.680000   \n",
       "614                                           (18923,)  1.990000   \n",
       "699                                           (23644,)  1.660000   \n",
       "413                                           (23904,)  1.739000   \n",
       "21                                            (27908,)  1.770000   \n",
       "252  (2228, 2815, 7152, 7557, 7910, 8553, 8898, 102...  2.026667   \n",
       "1                                              (3735,)  1.860000   \n",
       "389                                            (8380,)  1.720000   \n",
       "121                                (2300, 7045, 19720)  1.803334   \n",
       "189                                            (7180,)  2.240000   \n",
       "476  (4653, 4710, 6415, 7155, 8599, 10176, 11495, 1...  1.579546   \n",
       "484                                      (6903, 11440)  1.680000   \n",
       "646  (7956, 11100, 14959, 15763, 16573, 18217, 2067...  1.626667   \n",
       "560                                            (2555,)  2.113000   \n",
       "273                                            (4605,)  1.590000   \n",
       "771                                           (27600,)  1.420000   \n",
       "385                                            (1306,)  1.630000   \n",
       "330                                            (3933,)  1.630000   \n",
       "\n",
       "     predicted_bandgap  target_vs_predicted  rms_target_vs_predicted  \n",
       "600           1.595622             0.739378                 0.739378  \n",
       "130           1.639064             0.637936                 0.637936  \n",
       "702           2.166179             0.636179                 0.636179  \n",
       "681           2.208325             0.478325                 0.478325  \n",
       "466           1.997241             0.442759                 0.442759  \n",
       "343           1.990246             0.358245                 0.358245  \n",
       "166           1.653651             0.283651                 0.283651  \n",
       "661           1.827978             0.184294                 0.184294  \n",
       "782           2.482388             0.178102                 0.178102  \n",
       "243           1.761499             0.138501                 0.138501  \n",
       "435           1.654660             0.114088                 0.114088  \n",
       "160           1.620941             0.110940                 0.110940  \n",
       "459           1.720712             0.110712                 0.110712  \n",
       "201           1.610225             0.109775                 0.109775  \n",
       "491           2.285665             0.104335                 0.104335  \n",
       "13            2.192698             0.092697                 0.092697  \n",
       "835           1.611848             0.081848                 0.081848  \n",
       "700           1.520830             0.079170                 0.079170  \n",
       "842           1.521821             0.078179                 0.078179  \n",
       "58            1.956561             0.076561                 0.076561  \n",
       "769           1.364505             0.075495                 0.075495  \n",
       "205           1.636192             0.073808                 0.073808  \n",
       "276           1.614713             0.065287                 0.065287  \n",
       "614           1.926166             0.063834                 0.063834  \n",
       "699           1.596504             0.063496                 0.063496  \n",
       "413           1.679731             0.059270                 0.059270  \n",
       "21            1.712801             0.057199                 0.057199  \n",
       "252           1.972202             0.054465                 0.054465  \n",
       "1             1.807000             0.053000                 0.053000  \n",
       "389           1.669206             0.050794                 0.050794  \n",
       "121           1.753498             0.049836                 0.049836  \n",
       "189           2.288437             0.048437                 0.048437  \n",
       "476           1.627403             0.047857                 0.047857  \n",
       "484           1.635536             0.044464                 0.044464  \n",
       "646           1.582465             0.044202                 0.044202  \n",
       "560           2.156703             0.043702                 0.043702  \n",
       "273           1.633197             0.043197                 0.043197  \n",
       "771           1.377886             0.042114                 0.042114  \n",
       "385           1.589370             0.040630                 0.040630  \n",
       "330           1.589808             0.040192                 0.040192  "
      ]
     },
     "execution_count": 29,
     "metadata": {},
     "output_type": "execute_result"
    }
   ],
   "source": [
    "test_df['predicted_bandgap'] = test_df_predicted\n",
    "test_df['target_vs_predicted'] = abs(test_df['predicted_bandgap']-test_df['target'])\n",
    "# test_df['rms_target_vs_predicted'] = ((test_df['predicted_bandgap'] - test_df['target']) ** 2) ** .5\n",
    "test_df.sort_values(by=['target_vs_predicted'], ascending=False).head(40)"
   ]
  },
  {
   "cell_type": "markdown",
   "id": "7eaf7929",
   "metadata": {},
   "source": [
    "## Let's do now some prediction for halide perovskite compositions."
   ]
  },
  {
   "cell_type": "markdown",
   "id": "4c019b61",
   "metadata": {},
   "source": [
    "Based on the trained model we predict now the bandgap for the ${CsPb(I_{1-x},Br_{x})_{3}}$ solid solution "
   ]
  },
  {
   "cell_type": "code",
   "execution_count": 31,
   "id": "48eee9c3",
   "metadata": {},
   "outputs": [
    {
     "name": "stderr",
     "output_type": "stream",
     "text": [
      "Generating EDM: 100%|██████████| 50/50 [00:00<00:00, 49908.42formulae/s]\n"
     ]
    },
    {
     "name": "stdout",
     "output_type": "stream",
     "text": [
      "loading data with up to 8 elements in the formula\n"
     ]
    },
    {
     "data": {
      "image/png": "[encoded data removed]",
      "text/plain": [
       "<Figure size 432x288 with 1 Axes>"
      ]
     },
     "metadata": {
      "needs_background": "light"
     },
     "output_type": "display_data"
    }
   ],
   "source": [
    "import numpy as np\n",
    "X_comp = np.linspace(0, 1, 50)\n",
    "complist = [f'CsPbI{3*(1-x)}Br{3*x}' for x in X_comp]\n",
    "val_df = pd.DataFrame(({\"formula\": complist, \"target\": [0.0]*len(complist)}))\n",
    "prediction, prediction_sigma = cb_eg_1.predict(val_df, return_uncertainty=True)\n",
    "#plt.scatter(X_comp, prediction, alpha=0.5)\n",
    "plt.errorbar(X_comp, prediction, yerr=prediction_sigma, fmt=\"o\", alpha=0.5)\n",
    "plt.ylabel(\"Predicted bandgap (eV)\")\n",
    "plt.xlabel(\"x in $\\mathregular{CsPb(I_{1-x},Br_{x})_{3}}$\" )\n",
    "plt.tight_layout()\n",
    "plt.show()"
   ]
  },
  {
   "cell_type": "markdown",
   "id": "d14fbff2",
   "metadata": {},
   "source": [
    "But we can extend this to more complex compositional spaces where electronic based calculations would become very expensive. For example for: \n",
    "\n",
    "$${CsSn_{x}Pb_{1-x}(I_{y},Br_{1-y})_{3}}$$"
   ]
  },
  {
   "cell_type": "code",
   "execution_count": 32,
   "id": "42a5a25c",
   "metadata": {},
   "outputs": [
    {
     "name": "stdout",
     "output_type": "stream",
     "text": [
      "50\n"
     ]
    },
    {
     "name": "stderr",
     "output_type": "stream",
     "text": [
      "Generating EDM: 100%|██████████| 50/50 [00:00<?, ?formulae/s]\n"
     ]
    },
    {
     "name": "stdout",
     "output_type": "stream",
     "text": [
      "loading data with up to 8 elements in the formula\n"
     ]
    },
    {
     "name": "stderr",
     "output_type": "stream",
     "text": [
      "Generating EDM: 100%|██████████| 50/50 [00:00<00:00, 100150.53formulae/s]"
     ]
    },
    {
     "name": "stdout",
     "output_type": "stream",
     "text": [
      "loading data with up to 8 elements in the formula\n"
     ]
    },
    {
     "name": "stderr",
     "output_type": "stream",
     "text": [
      "\n",
      "Generating EDM: 100%|██████████| 50/50 [00:00<00:00, 100007.25formulae/s]\n"
     ]
    },
    {
     "name": "stdout",
     "output_type": "stream",
     "text": [
      "loading data with up to 8 elements in the formula\n"
     ]
    },
    {
     "name": "stderr",
     "output_type": "stream",
     "text": [
      "Generating EDM: 100%|██████████| 50/50 [00:00<?, ?formulae/s]\n"
     ]
    },
    {
     "name": "stdout",
     "output_type": "stream",
     "text": [
      "loading data with up to 8 elements in the formula\n"
     ]
    },
    {
     "name": "stderr",
     "output_type": "stream",
     "text": [
      "Generating EDM: 100%|██████████| 50/50 [00:00<00:00, 49205.82formulae/s]\n"
     ]
    },
    {
     "name": "stdout",
     "output_type": "stream",
     "text": [
      "loading data with up to 8 elements in the formula\n"
     ]
    },
    {
     "name": "stderr",
     "output_type": "stream",
     "text": [
      "Generating EDM: 100%|██████████| 50/50 [00:00<?, ?formulae/s]\n"
     ]
    },
    {
     "name": "stdout",
     "output_type": "stream",
     "text": [
      "loading data with up to 8 elements in the formula\n"
     ]
    },
    {
     "name": "stderr",
     "output_type": "stream",
     "text": [
      "Generating EDM: 100%|██████████| 50/50 [00:00<00:00, 49991.70formulae/s]\n"
     ]
    },
    {
     "name": "stdout",
     "output_type": "stream",
     "text": [
      "loading data with up to 8 elements in the formula\n"
     ]
    },
    {
     "name": "stderr",
     "output_type": "stream",
     "text": [
      "Generating EDM: 100%|██████████| 50/50 [00:00<00:00, 99627.17formulae/s]\n"
     ]
    },
    {
     "name": "stdout",
     "output_type": "stream",
     "text": [
      "loading data with up to 8 elements in the formula\n"
     ]
    },
    {
     "name": "stderr",
     "output_type": "stream",
     "text": [
      "Generating EDM: 100%|██████████| 50/50 [00:00<00:00, 99485.39formulae/s]\n"
     ]
    },
    {
     "name": "stdout",
     "output_type": "stream",
     "text": [
      "loading data with up to 8 elements in the formula\n"
     ]
    },
    {
     "name": "stderr",
     "output_type": "stream",
     "text": [
      "Generating EDM: 100%|██████████| 50/50 [00:00<?, ?formulae/s]\n"
     ]
    },
    {
     "name": "stdout",
     "output_type": "stream",
     "text": [
      "loading data with up to 8 elements in the formula\n"
     ]
    },
    {
     "name": "stderr",
     "output_type": "stream",
     "text": [
      "Generating EDM: 100%|██████████| 50/50 [00:00<00:00, 100054.96formulae/s]\n"
     ]
    },
    {
     "name": "stdout",
     "output_type": "stream",
     "text": [
      "loading data with up to 8 elements in the formula\n"
     ]
    },
    {
     "name": "stderr",
     "output_type": "stream",
     "text": [
      "Generating EDM: 100%|██████████| 50/50 [00:00<00:00, 50003.62formulae/s]\n"
     ]
    },
    {
     "name": "stdout",
     "output_type": "stream",
     "text": [
      "loading data with up to 8 elements in the formula\n"
     ]
    },
    {
     "name": "stderr",
     "output_type": "stream",
     "text": [
      "Generating EDM: 100%|██████████| 50/50 [00:00<00:00, 100007.25formulae/s]\n"
     ]
    },
    {
     "name": "stdout",
     "output_type": "stream",
     "text": [
      "loading data with up to 8 elements in the formula\n"
     ]
    },
    {
     "name": "stderr",
     "output_type": "stream",
     "text": [
      "Generating EDM: 100%|██████████| 50/50 [00:00<00:00, 16594.02formulae/s]\n"
     ]
    },
    {
     "name": "stdout",
     "output_type": "stream",
     "text": [
      "loading data with up to 8 elements in the formula\n"
     ]
    },
    {
     "name": "stderr",
     "output_type": "stream",
     "text": [
      "Generating EDM: 100%|██████████| 50/50 [00:00<?, ?formulae/s]\n"
     ]
    },
    {
     "name": "stdout",
     "output_type": "stream",
     "text": [
      "loading data with up to 8 elements in the formula\n"
     ]
    },
    {
     "name": "stderr",
     "output_type": "stream",
     "text": [
      "Generating EDM: 100%|██████████| 50/50 [00:00<00:00, 50027.48formulae/s]\n"
     ]
    },
    {
     "name": "stdout",
     "output_type": "stream",
     "text": [
      "loading data with up to 8 elements in the formula\n"
     ]
    },
    {
     "name": "stderr",
     "output_type": "stream",
     "text": [
      "Generating EDM: 100%|██████████| 50/50 [00:00<00:00, 100102.72formulae/s]\n"
     ]
    },
    {
     "name": "stdout",
     "output_type": "stream",
     "text": [
      "loading data with up to 8 elements in the formula\n"
     ]
    },
    {
     "name": "stderr",
     "output_type": "stream",
     "text": [
      "Generating EDM: 100%|██████████| 50/50 [00:00<00:00, 49801.76formulae/s]\n"
     ]
    },
    {
     "name": "stdout",
     "output_type": "stream",
     "text": [
      "loading data with up to 8 elements in the formula\n"
     ]
    },
    {
     "name": "stderr",
     "output_type": "stream",
     "text": [
      "Generating EDM: 100%|██████████| 50/50 [00:00<00:00, 49102.13formulae/s]\n"
     ]
    },
    {
     "name": "stdout",
     "output_type": "stream",
     "text": [
      "loading data with up to 8 elements in the formula\n"
     ]
    },
    {
     "name": "stderr",
     "output_type": "stream",
     "text": [
      "Generating EDM: 100%|██████████| 50/50 [00:00<?, ?formulae/s]\n"
     ]
    },
    {
     "name": "stdout",
     "output_type": "stream",
     "text": [
      "loading data with up to 8 elements in the formula\n"
     ]
    },
    {
     "name": "stderr",
     "output_type": "stream",
     "text": [
      "Generating EDM: 100%|██████████| 50/50 [00:00<?, ?formulae/s]\n"
     ]
    },
    {
     "name": "stdout",
     "output_type": "stream",
     "text": [
      "loading data with up to 8 elements in the formula\n"
     ]
    },
    {
     "name": "stderr",
     "output_type": "stream",
     "text": [
      "Generating EDM: 100%|██████████| 50/50 [00:00<?, ?formulae/s]\n"
     ]
    },
    {
     "name": "stdout",
     "output_type": "stream",
     "text": [
      "loading data with up to 8 elements in the formula\n"
     ]
    },
    {
     "name": "stderr",
     "output_type": "stream",
     "text": [
      "Generating EDM: 100%|██████████| 50/50 [00:00<00:00, 49979.79formulae/s]\n"
     ]
    },
    {
     "name": "stdout",
     "output_type": "stream",
     "text": [
      "loading data with up to 8 elements in the formula\n"
     ]
    },
    {
     "name": "stderr",
     "output_type": "stream",
     "text": [
      "Generating EDM: 100%|██████████| 50/50 [00:00<00:00, 50303.48formulae/s]\n"
     ]
    },
    {
     "name": "stdout",
     "output_type": "stream",
     "text": [
      "loading data with up to 8 elements in the formula\n"
     ]
    },
    {
     "name": "stderr",
     "output_type": "stream",
     "text": [
      "Generating EDM: 100%|██████████| 50/50 [00:00<00:00, 25028.67formulae/s]\n"
     ]
    },
    {
     "name": "stdout",
     "output_type": "stream",
     "text": [
      "loading data with up to 8 elements in the formula\n"
     ]
    },
    {
     "name": "stderr",
     "output_type": "stream",
     "text": [
      "Generating EDM: 100%|██████████| 50/50 [00:00<00:00, 25013.74formulae/s]\n"
     ]
    },
    {
     "name": "stdout",
     "output_type": "stream",
     "text": [
      "loading data with up to 8 elements in the formula\n"
     ]
    },
    {
     "name": "stderr",
     "output_type": "stream",
     "text": [
      "Generating EDM: 100%|██████████| 50/50 [00:00<00:00, 24742.24formulae/s]\n"
     ]
    },
    {
     "name": "stdout",
     "output_type": "stream",
     "text": [
      "loading data with up to 8 elements in the formula\n"
     ]
    },
    {
     "name": "stderr",
     "output_type": "stream",
     "text": [
      "Generating EDM: 100%|██████████| 50/50 [00:00<?, ?formulae/s]\n"
     ]
    },
    {
     "name": "stdout",
     "output_type": "stream",
     "text": [
      "loading data with up to 8 elements in the formula\n"
     ]
    },
    {
     "name": "stderr",
     "output_type": "stream",
     "text": [
      "Generating EDM: 100%|██████████| 50/50 [00:00<00:00, 50753.92formulae/s]\n"
     ]
    },
    {
     "name": "stdout",
     "output_type": "stream",
     "text": [
      "loading data with up to 8 elements in the formula\n"
     ]
    },
    {
     "name": "stderr",
     "output_type": "stream",
     "text": [
      "Generating EDM: 100%|██████████| 50/50 [00:00<?, ?formulae/s]\n"
     ]
    },
    {
     "name": "stdout",
     "output_type": "stream",
     "text": [
      "loading data with up to 8 elements in the formula\n"
     ]
    },
    {
     "name": "stderr",
     "output_type": "stream",
     "text": [
      "Generating EDM: 100%|██████████| 50/50 [00:00<00:00, 100150.53formulae/s]\n"
     ]
    },
    {
     "name": "stdout",
     "output_type": "stream",
     "text": [
      "loading data with up to 8 elements in the formula\n"
     ]
    },
    {
     "name": "stderr",
     "output_type": "stream",
     "text": [
      "Generating EDM: 100%|██████████| 50/50 [00:00<00:00, 99532.61formulae/s]\n"
     ]
    },
    {
     "name": "stdout",
     "output_type": "stream",
     "text": [
      "loading data with up to 8 elements in the formula\n"
     ]
    },
    {
     "name": "stderr",
     "output_type": "stream",
     "text": [
      "Generating EDM: 100%|██████████| 50/50 [00:00<00:00, 50003.62formulae/s]\n"
     ]
    },
    {
     "name": "stdout",
     "output_type": "stream",
     "text": [
      "loading data with up to 8 elements in the formula\n"
     ]
    },
    {
     "name": "stderr",
     "output_type": "stream",
     "text": [
      "Generating EDM: 100%|██████████| 50/50 [00:00<00:00, 49967.88formulae/s]\n"
     ]
    },
    {
     "name": "stdout",
     "output_type": "stream",
     "text": [
      "loading data with up to 8 elements in the formula\n"
     ]
    },
    {
     "name": "stderr",
     "output_type": "stream",
     "text": [
      "Generating EDM: 100%|██████████| 50/50 [00:00<00:00, 49979.79formulae/s]\n"
     ]
    },
    {
     "name": "stdout",
     "output_type": "stream",
     "text": [
      "loading data with up to 8 elements in the formula\n"
     ]
    },
    {
     "name": "stderr",
     "output_type": "stream",
     "text": [
      "Generating EDM: 100%|██████████| 50/50 [00:00<00:00, 100342.20formulae/s]\n"
     ]
    },
    {
     "name": "stdout",
     "output_type": "stream",
     "text": [
      "loading data with up to 8 elements in the formula\n"
     ]
    },
    {
     "name": "stderr",
     "output_type": "stream",
     "text": [
      "Generating EDM: 100%|██████████| 50/50 [00:00<?, ?formulae/s]\n"
     ]
    },
    {
     "name": "stdout",
     "output_type": "stream",
     "text": [
      "loading data with up to 8 elements in the formula\n"
     ]
    },
    {
     "name": "stderr",
     "output_type": "stream",
     "text": [
      "Generating EDM: 100%|██████████| 50/50 [00:00<00:00, 49991.70formulae/s]\n"
     ]
    },
    {
     "name": "stdout",
     "output_type": "stream",
     "text": [
      "loading data with up to 8 elements in the formula\n"
     ]
    },
    {
     "name": "stderr",
     "output_type": "stream",
     "text": [
      "Generating EDM: 100%|██████████| 50/50 [00:00<?, ?formulae/s]\n"
     ]
    },
    {
     "name": "stdout",
     "output_type": "stream",
     "text": [
      "loading data with up to 8 elements in the formula\n"
     ]
    },
    {
     "name": "stderr",
     "output_type": "stream",
     "text": [
      "Generating EDM: 100%|██████████| 50/50 [00:00<00:00, 50183.11formulae/s]\n"
     ]
    },
    {
     "name": "stdout",
     "output_type": "stream",
     "text": [
      "loading data with up to 8 elements in the formula\n"
     ]
    },
    {
     "name": "stderr",
     "output_type": "stream",
     "text": [
      "Generating EDM: 100%|██████████| 50/50 [00:00<00:00, 100007.25formulae/s]\n"
     ]
    },
    {
     "name": "stdout",
     "output_type": "stream",
     "text": [
      "loading data with up to 8 elements in the formula\n"
     ]
    },
    {
     "name": "stderr",
     "output_type": "stream",
     "text": [
      "Generating EDM: 100%|██████████| 50/50 [00:00<00:00, 49991.70formulae/s]\n"
     ]
    },
    {
     "name": "stdout",
     "output_type": "stream",
     "text": [
      "loading data with up to 8 elements in the formula\n"
     ]
    },
    {
     "name": "stderr",
     "output_type": "stream",
     "text": [
      "Generating EDM: 100%|██████████| 50/50 [00:00<?, ?formulae/s]\n"
     ]
    },
    {
     "name": "stdout",
     "output_type": "stream",
     "text": [
      "loading data with up to 8 elements in the formula\n"
     ]
    },
    {
     "name": "stderr",
     "output_type": "stream",
     "text": [
      "Generating EDM: 100%|██████████| 50/50 [00:00<00:00, 50003.62formulae/s]\n"
     ]
    },
    {
     "name": "stdout",
     "output_type": "stream",
     "text": [
      "loading data with up to 8 elements in the formula\n"
     ]
    },
    {
     "name": "stderr",
     "output_type": "stream",
     "text": [
      "Generating EDM: 100%|██████████| 50/50 [00:00<00:00, 100198.38formulae/s]\n"
     ]
    },
    {
     "name": "stdout",
     "output_type": "stream",
     "text": [
      "loading data with up to 8 elements in the formula\n"
     ]
    },
    {
     "name": "stderr",
     "output_type": "stream",
     "text": [
      "Generating EDM: 100%|██████████| 50/50 [00:00<00:00, 50472.97formulae/s]\n"
     ]
    },
    {
     "name": "stdout",
     "output_type": "stream",
     "text": [
      "loading data with up to 8 elements in the formula\n"
     ]
    },
    {
     "name": "stderr",
     "output_type": "stream",
     "text": [
      "Generating EDM: 100%|██████████| 50/50 [00:00<00:00, 56344.76formulae/s]\n"
     ]
    },
    {
     "name": "stdout",
     "output_type": "stream",
     "text": [
      "loading data with up to 8 elements in the formula\n"
     ]
    },
    {
     "name": "stderr",
     "output_type": "stream",
     "text": [
      "Generating EDM: 100%|██████████| 50/50 [00:00<00:00, 49991.70formulae/s]\n"
     ]
    },
    {
     "name": "stdout",
     "output_type": "stream",
     "text": [
      "loading data with up to 8 elements in the formula\n"
     ]
    },
    {
     "name": "stderr",
     "output_type": "stream",
     "text": [
      "Generating EDM: 100%|██████████| 50/50 [00:00<00:00, 50027.48formulae/s]\n"
     ]
    },
    {
     "name": "stdout",
     "output_type": "stream",
     "text": [
      "loading data with up to 8 elements in the formula\n"
     ]
    },
    {
     "name": "stderr",
     "output_type": "stream",
     "text": [
      "Generating EDM: 100%|██████████| 50/50 [00:00<00:00, 50063.31formulae/s]\n"
     ]
    },
    {
     "name": "stdout",
     "output_type": "stream",
     "text": [
      "loading data with up to 8 elements in the formula\n"
     ]
    },
    {
     "data": {
      "text/plain": [
       "Text(0.5, 1.0, '$\\\\mathregular{CsSn_{x}Pb_{1-x}(I_{y},Br_{1-y})_{3}}$')"
      ]
     },
     "execution_count": 32,
     "metadata": {},
     "output_type": "execute_result"
    },
    {
     "data": {
      "image/png": "[encoded data removed]",
      "text/plain": [
       "<Figure size 432x288 with 2 Axes>"
      ]
     },
     "metadata": {
      "needs_background": "light"
     },
     "output_type": "display_data"
    }
   ],
   "source": [
    "x_comp = np.linspace(0, 1.0, 50)\n",
    "y_comp = np.linspace(0, 1.0, 50)\n",
    "complist = [[f'CsSn{x}Pb{1-x}(I{y}Br{1-y})3' for x in x_comp] for y in y_comp]\n",
    "val_df_list = [pd.DataFrame(({\"formula\": complist[x], \"target\": [0.0]*len(complist[0])})) for x in range(len(complist))]\n",
    "print(len(val_df_list))\n",
    "#val_df_x = pd.DataFrame(({\"formula\": complist[0], \"target\": [0.0]*len(complist[0])}))\n",
    "#prediction, prediction_sigma = [cb_2.predict(val_df_list[x], return_uncertainty=True) for x in range(len(val_df_list))]\n",
    "prediction_array = []\n",
    "prediction_sigma_array = []\n",
    "for x in range(len(val_df_list)):\n",
    "    prediction, prediction_sigma = cb_eg_1.predict(val_df_list[x], return_uncertainty=True)\n",
    "    prediction_array.append(prediction)\n",
    "    prediction_sigma_array.append(prediction_sigma)\n",
    "    \n",
    "\n",
    "\n",
    "da = xr.DataArray(data=prediction_array,\n",
    "                  coords={\"x\": ([\"x\"], x_comp),\n",
    "                          \"y\": ([\"y\"], y_comp)},\n",
    "                  dims=[\"y\", \"x\"])\n",
    "da.name = \"Predicted bandgap\"\n",
    "da.attrs['units'] = 'eV'\n",
    "da.plot()\n",
    "plt.title('$\\mathregular{CsSn_{x}Pb_{1-x}(I_{y},Br_{1-y})_{3}}$')"
   ]
  },
  {
   "cell_type": "markdown",
   "id": "030169bd",
   "metadata": {},
   "source": [
    "## Querying the archive for Sn, Pb based compounds"
   ]
  },
  {
   "cell_type": "markdown",
   "id": "9a4f529e",
   "metadata": {},
   "source": [
    "\n",
    "Let's query now for the solar cells in the existing database being part of the solid solution $CsSn_{x}Pb_{1-x}(I_{y},Br_{1-y})_{3}$. We will include all the quaternaries too. "
   ]
  },
  {
   "cell_type": "code",
   "execution_count": 33,
   "id": "34146217",
   "metadata": {},
   "outputs": [],
   "source": [
    "base_url = 'https://nomad-lab.eu/dev/rae/perovskite-database/api/v1'\n",
    "\n",
    "Br_Cs_I_Pb_Sn_bandgaps =[]\n",
    "Br_Cs_I_Pb_Sn_formulas = []\n",
    "page_after_value = None\n",
    "\n",
    "while True:\n",
    "  data = requests.post(f'{base_url}/entries/archive/query', headers={'Authorization': f'Bearer {token}'}, json={\n",
    "    \"owner\": \"visible\",\n",
    "    \"aggregations\": {},\n",
    "\n",
    "    'query': {\"results.material.material_name:any\": [\"perovskite\"],\n",
    "              # \"results.material.elements_exclusive\": \"Br Cs I Pb Sn\",\n",
    "              \"results.material.n_elements\": {\n",
    "                \"gte\": 5,\n",
    "                \"lte\": 5\n",
    "              },\n",
    "              \"results.material.elements:all\": [\"Sn\", 'Br', 'Cs', 'Pb', 'I'],\n",
    "              # \"results.material.elements:none\": [\"H\"],\n",
    "              # \"results.properties.available_properties:all\": [\"optoelectronic.band_gap\"],\n",
    "              \"authors.name:any\": [\"Pepe Marquez\"]},\n",
    "              # \"results.material.elements:all\": [\"Sn\"]},\n",
    "\n",
    "    'required': {# 'data':'*',\n",
    "                'results':{\n",
    "                    'material': {\n",
    "                        'chemical_formula_reduced':'*'},\n",
    "                    'properties': {\n",
    "                        'optoelectronic':{\n",
    "                            'band_gap':'*',\n",
    "                            'solar_cell':{\n",
    "                                'open_circuit_voltage':'*',\n",
    "                                'short_circuit_current_density':'*',\n",
    "                                'fill_factor':'*',\n",
    "                                'efficiency':'*',\n",
    "                                }}},},\n",
    "                },\n",
    "    'pagination': {'page_size': 1,\n",
    "                   'page_after_value': page_after_value}\n",
    "  }).json()\n",
    "\n",
    "  # if len(data['data']) == 0:\n",
    "  #  break\n",
    "  if 'next_page_after_value' not in data['pagination'].keys():\n",
    "    break\n",
    "  page_after_value = data['pagination']['next_page_after_value']\n",
    "\n",
    "  for entry in data['data']:\n",
    "    if 'results' not in entry['archive'].keys():\n",
    "      continue\n",
    "    elif 'chemical_formula_reduced' not in entry['archive']['results']['material'].keys():\n",
    "      continue\n",
    "    elif 'band_gap' not in entry['archive']['results']['properties']['optoelectronic'].keys():\n",
    "      continue\n",
    "    else:\n",
    "      Br_Cs_I_Pb_Sn_bandgaps.append(entry['archive']['results']['properties']['optoelectronic']['band_gap'][0]['value'])\n",
    "      Br_Cs_I_Pb_Sn_formulas.append(entry['archive']['results']['material']['chemical_formula_reduced'])"
   ]
  },
  {
   "cell_type": "code",
   "execution_count": 34,
   "id": "805279da",
   "metadata": {},
   "outputs": [],
   "source": [
    "base_url = 'https://nomad-lab.eu/dev/rae/perovskite-database/api/v1'\n",
    "\n",
    "Cs_I_Pb_Sn_bandgaps =[]\n",
    "Cs_I_Pb_Sn_formulas = []\n",
    "page_after_value = None\n",
    "\n",
    "while True:\n",
    "  data = requests.post(f'{base_url}/entries/archive/query', headers={'Authorization': f'Bearer {token}'}, json={\n",
    "    \"owner\": \"visible\",\n",
    "    \"aggregations\": {},\n",
    "\n",
    "    'query': {\"results.material.material_name:any\": [\"perovskite\"],\n",
    "              # \"results.material.elements_exclusive\": \"Br Cs I Pb Sn\",\n",
    "              \"results.material.n_elements\": {\n",
    "                \"gte\": 4,\n",
    "                \"lte\": 4\n",
    "              },\n",
    "              \"results.material.elements:all\": [\"Sn\", 'Cs', 'Pb', 'I'],\n",
    "              # \"results.material.elements:none\": [\"H\"],\n",
    "              # \"results.properties.available_properties:all\": [\"optoelectronic.band_gap\"],\n",
    "              \"authors.name:any\": [\"Pepe Marquez\"]},\n",
    "              # \"results.material.elements:all\": [\"Sn\"]},\n",
    "\n",
    "    'required': {# 'data':'*',\n",
    "                'results':{\n",
    "                    'material': {\n",
    "                        'chemical_formula_reduced':'*'},\n",
    "                    'properties': {\n",
    "                        'optoelectronic':{\n",
    "                            'band_gap':'*',\n",
    "                            'solar_cell':{\n",
    "                                'open_circuit_voltage':'*',\n",
    "                                'short_circuit_current_density':'*',\n",
    "                                'fill_factor':'*',\n",
    "                                'efficiency':'*',\n",
    "                                }}},},\n",
    "                },\n",
    "    'pagination': {'page_size': 1,\n",
    "                   'page_after_value': page_after_value}\n",
    "  }).json()\n",
    "\n",
    "  # if len(data['data']) == 0:\n",
    "  #  break\n",
    "  if 'next_page_after_value' not in data['pagination'].keys():\n",
    "    break\n",
    "  page_after_value = data['pagination']['next_page_after_value']\n",
    "\n",
    "  for entry in data['data']:\n",
    "    if 'results' not in entry['archive'].keys():\n",
    "      continue\n",
    "    elif 'chemical_formula_reduced' not in entry['archive']['results']['material'].keys():\n",
    "      continue\n",
    "    elif 'band_gap' not in entry['archive']['results']['properties']['optoelectronic'].keys():\n",
    "      continue\n",
    "    else:\n",
    "      Cs_I_Pb_Sn_bandgaps.append(entry['archive']['results']['properties']['optoelectronic']['band_gap'][0]['value'])\n",
    "      Cs_I_Pb_Sn_formulas.append(entry['archive']['results']['material']['chemical_formula_reduced'])"
   ]
  },
  {
   "cell_type": "code",
   "execution_count": 35,
   "id": "51a19be5",
   "metadata": {},
   "outputs": [],
   "source": [
    "base_url = 'https://nomad-lab.eu/dev/rae/perovskite-database/api/v1'\n",
    "\n",
    "Cs_Br_Pb_Sn_bandgaps =[]\n",
    "Cs_Br_Pb_Sn_formulas = []\n",
    "page_after_value = None\n",
    "\n",
    "while True:\n",
    "  data = requests.post(f'{base_url}/entries/archive/query', headers={'Authorization': f'Bearer {token}'}, json={\n",
    "    \"owner\": \"visible\",\n",
    "    \"aggregations\": {},\n",
    "\n",
    "    'query': {\"results.material.material_name:any\": [\"perovskite\"],\n",
    "              # \"results.material.elements_exclusive\": \"Br Cs I Pb Sn\",\n",
    "              \"results.material.n_elements\": {\n",
    "                \"gte\": 4,\n",
    "                \"lte\": 4\n",
    "              },\n",
    "              \"results.material.elements:all\": [\"Sn\", 'Cs', 'Pb', 'Br'],\n",
    "              # \"results.material.elements:none\": [\"H\"],\n",
    "              # \"results.properties.available_properties:all\": [\"optoelectronic.band_gap\"],\n",
    "              \"authors.name:any\": [\"Pepe Marquez\"]},\n",
    "              # \"results.material.elements:all\": [\"Sn\"]},\n",
    "\n",
    "    'required': {# 'data':'*',\n",
    "                'results':{\n",
    "                    'material': {\n",
    "                        'chemical_formula_reduced':'*'},\n",
    "                    'properties': {\n",
    "                        'optoelectronic':{\n",
    "                            'band_gap':'*',\n",
    "                            'solar_cell':{\n",
    "                                'open_circuit_voltage':'*',\n",
    "                                'short_circuit_current_density':'*',\n",
    "                                'fill_factor':'*',\n",
    "                                'efficiency':'*',\n",
    "                                }}},},\n",
    "                },\n",
    "    'pagination': {'page_size': 1,\n",
    "                   'page_after_value': page_after_value}\n",
    "  }).json()\n",
    "\n",
    "  # if len(data['data']) == 0:\n",
    "  #  break\n",
    "  if 'next_page_after_value' not in data['pagination'].keys():\n",
    "    break\n",
    "  page_after_value = data['pagination']['next_page_after_value']\n",
    "\n",
    "  for entry in data['data']:\n",
    "    if 'results' not in entry['archive'].keys():\n",
    "      continue\n",
    "    elif 'chemical_formula_reduced' not in entry['archive']['results']['material'].keys():\n",
    "      continue\n",
    "    elif 'band_gap' not in entry['archive']['results']['properties']['optoelectronic'].keys():\n",
    "      continue\n",
    "    else:\n",
    "      Cs_Br_Pb_Sn_bandgaps.append(entry['archive']['results']['properties']['optoelectronic']['band_gap'][0]['value'])\n",
    "      Cs_Br_Pb_Sn_formulas.append(entry['archive']['results']['material']['chemical_formula_reduced'])"
   ]
  },
  {
   "cell_type": "code",
   "execution_count": 36,
   "id": "100a1707",
   "metadata": {},
   "outputs": [
    {
     "data": {
      "text/plain": [
       "[]"
      ]
     },
     "execution_count": 36,
     "metadata": {},
     "output_type": "execute_result"
    }
   ],
   "source": [
    "Cs_Br_Pb_Sn_formulas"
   ]
  },
  {
   "cell_type": "code",
   "execution_count": 37,
   "id": "0b6700c3",
   "metadata": {},
   "outputs": [],
   "source": [
    "base_url = 'https://nomad-lab.eu/dev/rae/perovskite-database/api/v1'\n",
    "\n",
    "Cs_Br_I_Pb_bandgaps =[]\n",
    "Cs_Br_I_Pb_formulas = []\n",
    "page_after_value = None\n",
    "\n",
    "while True:\n",
    "  data = requests.post(f'{base_url}/entries/archive/query', headers={'Authorization': f'Bearer {token}'}, json={\n",
    "    \"owner\": \"visible\",\n",
    "    \"aggregations\": {},\n",
    "\n",
    "    'query': {\"results.material.material_name:any\": [\"perovskite\"],\n",
    "              # \"results.material.elements_exclusive\": \"Br Cs I Pb Sn\",\n",
    "              \"results.material.n_elements\": {\n",
    "                \"gte\": 4,\n",
    "                \"lte\": 4\n",
    "              },\n",
    "              \"results.material.elements:all\": [\n",
    "                \"Cs\",\n",
    "                \"Pb\",\n",
    "                \"I\",\n",
    "                \"Br\"\n",
    "              ],\n",
    "              # \"results.material.elements:none\": [\"H\"],\n",
    "              # \"results.properties.available_properties:all\": [\"optoelectronic.band_gap\"],\n",
    "              \"authors.name:any\": [\"Pepe Marquez\"]},\n",
    "              # \"results.material.elements:all\": [\"Sn\"]},\n",
    "\n",
    "    'required': {# 'data':'*',\n",
    "                'results':{\n",
    "                    'material': {\n",
    "                        'chemical_formula_reduced':'*'},\n",
    "                    'properties': {\n",
    "                        'optoelectronic':{\n",
    "                            'band_gap':'*',\n",
    "                            'solar_cell':{\n",
    "                                'open_circuit_voltage':'*',\n",
    "                                'short_circuit_current_density':'*',\n",
    "                                'fill_factor':'*',\n",
    "                                'efficiency':'*',\n",
    "                                }}},},\n",
    "                },\n",
    "    'pagination': {'page_size': 1,\n",
    "                   'page_after_value': page_after_value}\n",
    "  }).json()\n",
    "\n",
    "  # if len(data['data']) == 0:\n",
    "  #  break\n",
    "  if 'next_page_after_value' not in data['pagination'].keys():\n",
    "    break\n",
    "  page_after_value = data['pagination']['next_page_after_value']\n",
    "\n",
    "  for entry in data['data']:\n",
    "    if 'results' not in entry['archive'].keys():\n",
    "      continue\n",
    "    elif 'chemical_formula_reduced' not in entry['archive']['results']['material'].keys():\n",
    "      continue\n",
    "    elif 'band_gap' not in entry['archive']['results']['properties']['optoelectronic'].keys():\n",
    "      continue\n",
    "    else:\n",
    "      Cs_Br_I_Pb_bandgaps.append(entry['archive']['results']['properties']['optoelectronic']['band_gap'][0]['value'])\n",
    "      Cs_Br_I_Pb_formulas.append(entry['archive']['results']['material']['chemical_formula_reduced'])"
   ]
  },
  {
   "cell_type": "code",
   "execution_count": 38,
   "id": "59d70a2e",
   "metadata": {},
   "outputs": [],
   "source": [
    "base_url = 'https://nomad-lab.eu/dev/rae/perovskite-database/api/v1'\n",
    "\n",
    "Cs_Br_I_Sn_bandgaps =[]\n",
    "Cs_Br_I_Sn_formulas = []\n",
    "page_after_value = None\n",
    "\n",
    "while True:\n",
    "  data = requests.post(f'{base_url}/entries/archive/query', headers={'Authorization': f'Bearer {token}'}, json={\n",
    "    \"owner\": \"visible\",\n",
    "    \"aggregations\": {},\n",
    "\n",
    "    'query': {\"results.material.material_name:any\": [\"perovskite\"],\n",
    "              # \"results.material.elements_exclusive\": \"Br Cs I Pb Sn\",\n",
    "              \"results.material.n_elements\": {\n",
    "                \"gte\": 4,\n",
    "                \"lte\": 4\n",
    "              },\n",
    "              \"results.material.elements:all\": [\n",
    "                \"Cs\",\n",
    "                \"Sn\",\n",
    "                \"I\",\n",
    "                \"Br\"\n",
    "              ],\n",
    "              # \"results.material.elements:none\": [\"H\"],\n",
    "              # \"results.properties.available_properties:all\": [\"optoelectronic.band_gap\"],\n",
    "              \"authors.name:any\": [\"Pepe Marquez\"]},\n",
    "              # \"results.material.elements:all\": [\"Sn\"]},\n",
    "\n",
    "    'required': {# 'data':'*',\n",
    "                'results':{\n",
    "                    'material': {\n",
    "                        'chemical_formula_reduced':'*'},\n",
    "                    'properties': {\n",
    "                        'optoelectronic':{\n",
    "                            'band_gap':'*',\n",
    "                            'solar_cell':{\n",
    "                                'open_circuit_voltage':'*',\n",
    "                                'short_circuit_current_density':'*',\n",
    "                                'fill_factor':'*',\n",
    "                                'efficiency':'*',\n",
    "                                }}},},\n",
    "                },\n",
    "    'pagination': {'page_size': 1,\n",
    "                   'page_after_value': page_after_value}\n",
    "  }).json()\n",
    "\n",
    "  # if len(data['data']) == 0:\n",
    "  #  break\n",
    "  if 'next_page_after_value' not in data['pagination'].keys():\n",
    "    break\n",
    "  page_after_value = data['pagination']['next_page_after_value']\n",
    "\n",
    "  for entry in data['data']:\n",
    "    if 'results' not in entry['archive'].keys():\n",
    "      continue\n",
    "    elif 'chemical_formula_reduced' not in entry['archive']['results']['material'].keys():\n",
    "      continue\n",
    "    elif 'band_gap' not in entry['archive']['results']['properties']['optoelectronic'].keys():\n",
    "      continue\n",
    "    else:\n",
    "      Cs_Br_I_Sn_bandgaps.append(entry['archive']['results']['properties']['optoelectronic']['band_gap'][0]['value'])\n",
    "      Cs_Br_I_Sn_formulas.append(entry['archive']['results']['material']['chemical_formula_reduced'])"
   ]
  },
  {
   "cell_type": "markdown",
   "id": "a6f81ebb",
   "metadata": {},
   "source": [
    "## Let's place the formulas and bandgaps in a Pandas dataframe"
   ]
  },
  {
   "cell_type": "code",
   "execution_count": 39,
   "id": "247d2057",
   "metadata": {},
   "outputs": [],
   "source": [
    "formulas = []\n",
    "for compo_list in [Br_Cs_I_Pb_Sn_formulas, Cs_I_Pb_Sn_formulas, Cs_Br_Pb_Sn_formulas, Cs_Br_I_Pb_formulas, Cs_Br_I_Sn_formulas]:\n",
    "    formulas.append(compo_list)    \n",
    "formulas = [item for sublist in formulas for item in sublist]"
   ]
  },
  {
   "cell_type": "code",
   "execution_count": 40,
   "id": "c092885f",
   "metadata": {},
   "outputs": [],
   "source": [
    "bandgaps = []\n",
    "for bandgap_list in [Br_Cs_I_Pb_Sn_bandgaps, Cs_I_Pb_Sn_bandgaps, Cs_Br_Pb_Sn_bandgaps, Cs_Br_I_Pb_bandgaps, Cs_Br_I_Sn_bandgaps]:\n",
    "    bandgaps.append(bandgap_list)    \n",
    "bandgaps = [item for sublist in bandgaps for item in sublist]"
   ]
  },
  {
   "cell_type": "code",
   "execution_count": 41,
   "id": "bba688f6",
   "metadata": {},
   "outputs": [
    {
     "data": {
      "text/html": [
       "<div>\n",
       "<style scoped>\n",
       "    .dataframe tbody tr th:only-of-type {\n",
       "        vertical-align: middle;\n",
       "    }\n",
       "\n",
       "    .dataframe tbody tr th {\n",
       "        vertical-align: top;\n",
       "    }\n",
       "\n",
       "    .dataframe thead th {\n",
       "        text-align: right;\n",
       "    }\n",
       "</style>\n",
       "<table border=\"1\" class=\"dataframe\">\n",
       "  <thead>\n",
       "    <tr style=\"text-align: right;\">\n",
       "      <th></th>\n",
       "      <th>formula</th>\n",
       "      <th>bandgaps</th>\n",
       "    </tr>\n",
       "  </thead>\n",
       "  <tbody>\n",
       "    <tr>\n",
       "      <th>0</th>\n",
       "      <td>Cs10Sn1Pb9I10Br20</td>\n",
       "      <td>1.79</td>\n",
       "    </tr>\n",
       "    <tr>\n",
       "      <th>1</th>\n",
       "      <td>Cs10Sn1Pb9I10Br20</td>\n",
       "      <td>1.79</td>\n",
       "    </tr>\n",
       "    <tr>\n",
       "      <th>2</th>\n",
       "      <td>Cs10Sn1Pb9I10Br20</td>\n",
       "      <td>1.79</td>\n",
       "    </tr>\n",
       "    <tr>\n",
       "      <th>3</th>\n",
       "      <td>Cs5Sn2Pb3I15</td>\n",
       "      <td>1.38</td>\n",
       "    </tr>\n",
       "    <tr>\n",
       "      <th>4</th>\n",
       "      <td>Cs5Sn2Pb3I15</td>\n",
       "      <td>1.38</td>\n",
       "    </tr>\n",
       "    <tr>\n",
       "      <th>...</th>\n",
       "      <td>...</td>\n",
       "      <td>...</td>\n",
       "    </tr>\n",
       "    <tr>\n",
       "      <th>452</th>\n",
       "      <td>Cs1Sn1I2Br1</td>\n",
       "      <td>1.37</td>\n",
       "    </tr>\n",
       "    <tr>\n",
       "      <th>453</th>\n",
       "      <td>Cs2Sn2I1Br5</td>\n",
       "      <td>2.36</td>\n",
       "    </tr>\n",
       "    <tr>\n",
       "      <th>454</th>\n",
       "      <td>Cs5Sn5I12Br3</td>\n",
       "      <td>1.40</td>\n",
       "    </tr>\n",
       "    <tr>\n",
       "      <th>455</th>\n",
       "      <td>Cs1Sn1I1Br2</td>\n",
       "      <td>1.63</td>\n",
       "    </tr>\n",
       "    <tr>\n",
       "      <th>456</th>\n",
       "      <td>Cs1Sn1I1Br2</td>\n",
       "      <td>1.65</td>\n",
       "    </tr>\n",
       "  </tbody>\n",
       "</table>\n",
       "<p>457 rows × 2 columns</p>\n",
       "</div>"
      ],
      "text/plain": [
       "               formula  bandgaps\n",
       "0    Cs10Sn1Pb9I10Br20      1.79\n",
       "1    Cs10Sn1Pb9I10Br20      1.79\n",
       "2    Cs10Sn1Pb9I10Br20      1.79\n",
       "3         Cs5Sn2Pb3I15      1.38\n",
       "4         Cs5Sn2Pb3I15      1.38\n",
       "..                 ...       ...\n",
       "452        Cs1Sn1I2Br1      1.37\n",
       "453        Cs2Sn2I1Br5      2.36\n",
       "454       Cs5Sn5I12Br3      1.40\n",
       "455        Cs1Sn1I1Br2      1.63\n",
       "456        Cs1Sn1I1Br2      1.65\n",
       "\n",
       "[457 rows x 2 columns]"
      ]
     },
     "execution_count": 41,
     "metadata": {},
     "output_type": "execute_result"
    }
   ],
   "source": [
    "Br_Cs_I_Pb_Sn_df = pd.DataFrame({'formula': formulas, 'bandgaps': bandgaps})\n",
    "# Change the values of bandgap from units of Joule to electronvolt\n",
    "Br_Cs_I_Pb_Sn_df['bandgaps'] = Br_Cs_I_Pb_Sn_df['bandgaps'] * 6.24150974e18\n",
    "Br_Cs_I_Pb_Sn_df"
   ]
  },
  {
   "cell_type": "code",
   "execution_count": 42,
   "id": "d7c70242",
   "metadata": {},
   "outputs": [],
   "source": [
    "def get_fractional_composition(formula):\n",
    "    from pymatgen.core import Composition\n",
    "    composition = Composition(formula)\n",
    "    compo_dict = composition.as_dict()\n",
    "    x = compo_dict['Sn']/(compo_dict['Sn']+compo_dict['Pb'])\n",
    "    y = compo_dict['I']/(compo_dict['I']+compo_dict['Br'])\n",
    "    return x, y"
   ]
  },
  {
   "cell_type": "code",
   "execution_count": 43,
   "id": "432c0d57",
   "metadata": {},
   "outputs": [],
   "source": [
    "x_list = []\n",
    "y_list = []\n",
    "for formula in Br_Cs_I_Pb_Sn_df['formula']:\n",
    "    x, y = get_fractional_composition(formula)\n",
    "    x_list.append(x)\n",
    "    y_list.append(y)\n",
    "\n",
    "# print(x_list)\n",
    "# print('')\n",
    "# print(y_list)\n"
   ]
  },
  {
   "cell_type": "code",
   "execution_count": 44,
   "id": "1389855f",
   "metadata": {},
   "outputs": [],
   "source": [
    "Br_Cs_I_Pb_Sn_df['x'] = x_list\n",
    "Br_Cs_I_Pb_Sn_df['y'] = y_list\n"
   ]
  },
  {
   "cell_type": "code",
   "execution_count": 45,
   "id": "8257f133",
   "metadata": {},
   "outputs": [],
   "source": [
    "appending_formulas = []"
   ]
  },
  {
   "cell_type": "code",
   "execution_count": 46,
   "id": "0483f6b9",
   "metadata": {},
   "outputs": [
    {
     "name": "stdout",
     "output_type": "stream",
     "text": [
      "[]\n"
     ]
    }
   ],
   "source": [
    "\n",
    "print(appending_formulas)\n",
    "final_formulas = [ x for x in formulas if \"H\" not in x ]\n",
    "# print(formulas)\n",
    "# print(len(formulas))"
   ]
  },
  {
   "cell_type": "code",
   "execution_count": 70,
   "id": "de3516cb",
   "metadata": {},
   "outputs": [],
   "source": [
    "from matplotlib.pyplot import xlim\n",
    "\n",
    "\n",
    "da = xr.DataArray(data=prediction_array,\n",
    "                  coords={\"x\": ([\"x\"], x_comp),\n",
    "                          \"y\": ([\"y\"], y_comp)},\n",
    "                  dims=[\"y\", \"x\"])\n",
    "da.name = \"Predicted bandgap\"\n",
    "da.attrs['units'] = 'eV'\n",
    "# da.rolling(x=10, y=10, center=True).mean().plot(cmap='rainbow', vmin=1.2, vmax=2.3, xlim=(-0.05,1.05), ylim=(-0.05,1.05))\n",
    "# da.plot(cmap='magma', vmin=1.2, vmax=2.3, xlim=(-0.05,1.05), ylim=(-0.05,1.05))\n",
    "# plt.scatter(Br_Cs_I_Pb_Sn_df['x'], Br_Cs_I_Pb_Sn_df['y'], s=200, marker='o', facecolors='none', edgecolors='black')\n",
    "# plt.title('$\\mathregular{CsSn_{x}Pb_{1-x}(I_{y},Br_{1-y})_{3}}$')"
   ]
  },
  {
   "cell_type": "markdown",
   "id": "3068cf20",
   "metadata": {},
   "source": [
    "Let's now plot the composition, bandgap value pairs that we have in the perovskite database (Figure a). Figure b shows the bandgap predicted for the whole compositional space of '${CsSn_{x}Pb_{1-x}(I_{y},Br_{1-y})_{3}}$'. The black  circles denote the compositions previously existing in the database (the one shown in figure a). "
   ]
  },
  {
   "cell_type": "code",
   "execution_count": 120,
   "metadata": {},
   "outputs": [
    {
     "data": {
      "text/plain": [
       "Text(-0.15, 1.1, 'b')"
      ]
     },
     "execution_count": 120,
     "metadata": {},
     "output_type": "execute_result"
    },
    {
     "data": {
      "image/png": "[encoded data removed]",
      "text/plain": [
       "<Figure size 1080x360 with 4 Axes>"
      ]
     },
     "metadata": {
      "needs_background": "light"
     },
     "output_type": "display_data"
    }
   ],
   "source": [
    "fig, axs = plt.subplots(1,2, figsize=(15,5))\n",
    "\n",
    "axs[0].scatter(\n",
    "    Br_Cs_I_Pb_Sn_df['x'], Br_Cs_I_Pb_Sn_df['y'], c=Br_Cs_I_Pb_Sn_df['bandgaps'], \n",
    "    s=200, alpha=0.2, cmap='magma',\n",
    "    vmin=1.2, vmax=2.3)\n",
    "    #set x axis label of axs[0] to be 'x'\t\n",
    "\n",
    "axs[0].set_xlabel('x')\n",
    "axs[0].set_ylabel('y')\n",
    "axs[0].set_ylim(-0.05,1.05)\n",
    "axs[0].set_xlim(-0.05,1.05)\n",
    "# show the color bar in axs[0]\n",
    "cbar = fig.colorbar(axs[0].collections[0], ax=axs[0])\n",
    "# cbar = axs[0].colorbar()\n",
    "axs[0].set_title('$\\mathregular{CsSn_{x}Pb_{1-x}(I_{y},Br_{1-y})_{3}}$')\n",
    "cbar.set_label('Actual bandgap [eV]')\n",
    "cbar.set_alpha(1)\n",
    "cbar.draw_all()\n",
    "\n",
    "# da.rolling(x=10, y=10, center=True).mean().plot(cmap='rainbow', vmin=1.2, vmax=2.3, xlim=(-0.05,1.05), ylim=(-0.05,1.05))\n",
    "da.plot(cmap='magma', vmin=1.2, vmax=2.3, xlim=(-0.05,1.05), ylim=(-0.05,1.05), ax=axs[1])\n",
    "plt.scatter(Br_Cs_I_Pb_Sn_df['x'], Br_Cs_I_Pb_Sn_df['y'], s=200, marker='o', facecolors='none', edgecolors='black')\n",
    "plt.title('$\\mathregular{CsSn_{x}Pb_{1-x}(I_{y},Br_{1-y})_{3}}$')\n",
    "# add a label to axs[0] and b label to axs[1] figure of the plot  \n",
    "axs[0].annotate('a', xy=(-0.15, 1.1), xycoords='axes fraction', fontsize=20)\n",
    "axs[1].annotate('b', xy=(-0.15, 1.1), xycoords='axes fraction', fontsize=20)"
   ]
  },
  {
   "cell_type": "markdown",
   "id": "7c93d43b",
   "metadata": {},
   "source": [
    "## Quick bandgap prediction by inputing a formula"
   ]
  },
  {
   "cell_type": "code",
   "execution_count": 110,
   "id": "92f17157",
   "metadata": {},
   "outputs": [],
   "source": [
    "# a function that gets a formula as an input and returns the bandgap of the formula predicted by the model cb_eg_1\n",
    "def get_bandgap():\n",
    "    input_formula = input('Input a formula: ')\n",
    "    #check if the imput formula is a valid pymatgen.core.compostion.Composition otherwise raise an error\n",
    "    from pymatgen.core import Composition\n",
    "    try:\n",
    "        composition_check = Composition(input_formula)\n",
    "        composition_check.valid\n",
    "        df_get_bandgap = pd.DataFrame({'formula': [input_formula], 'target': [0.0]})\n",
    "        prediction, prediction_sigma = cb_eg_1.predict(df_get_bandgap, return_uncertainty=True)\n",
    "        #print the predicted bandgap with 3 decimal places and the uncertainty with 3 decimal places\n",
    "        print(input_formula, 'predicted bandgap: {:.3f} +/- {:.3f} eV'.format(prediction[0], prediction_sigma[0]))\n",
    "    except Exception:\n",
    "        print(f'{input_formula} is an invalid formula')\n"
   ]
  },
  {
   "cell_type": "code",
   "execution_count": 117,
   "id": "cadcca0d",
   "metadata": {},
   "outputs": [
    {
     "name": "stderr",
     "output_type": "stream",
     "text": [
      "Generating EDM: 100%|██████████| 1/1 [00:00<?, ?formulae/s]"
     ]
    },
    {
     "name": "stdout",
     "output_type": "stream",
     "text": [
      "loading data with up to 8 elements in the formula\n",
      "CsSn1Pb0I3 predicted bandgap: 1.294 +/- 0.020 eV\n"
     ]
    },
    {
     "name": "stderr",
     "output_type": "stream",
     "text": [
      "\n"
     ]
    }
   ],
   "source": [
    "get_bandgap()"
   ]
  },
  {
   "cell_type": "markdown",
   "id": "72c20cdb",
   "metadata": {},
   "source": [
    "## Checking to which compositions this is applicable\n",
    "\n",
    "In general, for halide perovskites should work out ok wince this is the basis of the dataset used to train the model. \n"
   ]
  },
  {
   "cell_type": "code",
   "execution_count": null,
   "id": "3c39d8b1",
   "metadata": {},
   "outputs": [],
   "source": []
  },
  {
   "cell_type": "code",
   "execution_count": 69,
   "id": "7fe1ae30",
   "metadata": {},
   "outputs": [
    {
     "name": "stdout",
     "output_type": "stream",
     "text": [
      "\n",
      "Model architecture: out_dims, d_model, N, heads\n",
      "3, 512, 3, 4\n",
      "Running on compute device: cpu\n"
     ]
    },
    {
     "ename": "AssertionError",
     "evalue": "",
     "output_type": "error",
     "traceback": [
      "\u001b[1;31m---------------------------------------------------------------------------\u001b[0m",
      "\u001b[1;31mAssertionError\u001b[0m                            Traceback (most recent call last)",
      "\u001b[1;32m~\\AppData\\Local\\Temp/ipykernel_920/1523719171.py\u001b[0m in \u001b[0;36m<module>\u001b[1;34m\u001b[0m\n\u001b[0;32m      1\u001b[0m \u001b[0msaved_model\u001b[0m \u001b[1;33m=\u001b[0m \u001b[0mCrabNet\u001b[0m\u001b[1;33m(\u001b[0m\u001b[1;33m)\u001b[0m\u001b[1;33m\u001b[0m\u001b[1;33m\u001b[0m\u001b[0m\n\u001b[1;32m----> 2\u001b[1;33m saved_model.load_network(\n\u001b[0m\u001b[0;32m      3\u001b[0m     r'C:\\Users\\pepem\\Perovskite_database\\models\\trained_models\\Perovskite_eg_1.pth')\n",
      "\u001b[1;32m~\\AppData\\Roaming\\Python\\Python39\\site-packages\\crabnet\\crabnet_.py\u001b[0m in \u001b[0;36mload_network\u001b[1;34m(self, model_data)\u001b[0m\n\u001b[0;32m   1129\u001b[0m         \u001b[1;32melse\u001b[0m\u001b[1;33m:\u001b[0m\u001b[1;33m\u001b[0m\u001b[1;33m\u001b[0m\u001b[0m\n\u001b[0;32m   1130\u001b[0m             \u001b[0mnetwork\u001b[0m \u001b[1;33m=\u001b[0m \u001b[0mmodel_data\u001b[0m\u001b[1;33m\u001b[0m\u001b[1;33m\u001b[0m\u001b[0m\n\u001b[1;32m-> 1131\u001b[1;33m         \u001b[1;32massert\u001b[0m \u001b[0misinstance\u001b[0m\u001b[1;33m(\u001b[0m\u001b[0mself\u001b[0m\u001b[1;33m.\u001b[0m\u001b[0mmodel\u001b[0m\u001b[1;33m,\u001b[0m \u001b[0mSubCrab\u001b[0m\u001b[1;33m)\u001b[0m\u001b[1;33m\u001b[0m\u001b[1;33m\u001b[0m\u001b[0m\n\u001b[0m\u001b[0;32m   1132\u001b[0m         \u001b[0mbase_optim\u001b[0m \u001b[1;33m=\u001b[0m \u001b[0mLamb\u001b[0m\u001b[1;33m(\u001b[0m\u001b[0mparams\u001b[0m\u001b[1;33m=\u001b[0m\u001b[0mself\u001b[0m\u001b[1;33m.\u001b[0m\u001b[0mmodel\u001b[0m\u001b[1;33m.\u001b[0m\u001b[0mparameters\u001b[0m\u001b[1;33m(\u001b[0m\u001b[1;33m)\u001b[0m\u001b[1;33m)\u001b[0m\u001b[1;33m\u001b[0m\u001b[1;33m\u001b[0m\u001b[0m\n\u001b[0;32m   1133\u001b[0m         \u001b[0moptimizer\u001b[0m \u001b[1;33m=\u001b[0m \u001b[0mLookahead\u001b[0m\u001b[1;33m(\u001b[0m\u001b[0mbase_optimizer\u001b[0m\u001b[1;33m=\u001b[0m\u001b[0mbase_optim\u001b[0m\u001b[1;33m)\u001b[0m\u001b[1;33m\u001b[0m\u001b[1;33m\u001b[0m\u001b[0m\n",
      "\u001b[1;31mAssertionError\u001b[0m: "
     ]
    }
   ],
   "source": [
    "saved_model = CrabNet()\n",
    "saved_model.load_network(\n",
    "    r'C:\\Users\\pepem\\Perovskite_database\\models\\trained_models\\Perovskite_eg_1.pth')"
   ]
  },
  {
   "cell_type": "code",
   "execution_count": 117,
   "id": "e478942a",
   "metadata": {},
   "outputs": [
    {
     "name": "stdout",
     "output_type": "stream",
     "text": [
      "Cs2Sn1Pb1I2Br4\n",
      "Cs10Sn1Pb9I10Br20\n",
      "Cs2Sn1Pb1I4Br2\n",
      "Cs4Sn3Pb1I4Br8\n",
      "Cs10Sn1Pb9I10Br20\n",
      "Cs10Sn1Pb9I10Br20\n",
      "Cs2Sn1Pb1I4Br2\n",
      "Cs2Sn1Pb1I4Br2\n",
      "Cs4Sn1Pb3I4Br8\n",
      "0.1\n"
     ]
    }
   ],
   "source": [
    "\n",
    "for formula in formulas:\n",
    "    if 'H' not in formula:\n",
    "        print(formula) \n",
    "from pymatgen.core import Composition\n",
    "composition = Composition(formulas[1])\n",
    "compo_dict = composition.as_dict()\n",
    "print(compo_dict['Sn']/(compo_dict['Sn']+compo_dict['Pb']))\n",
    "\n",
    "# composition.get_atomic_fraction('Pb')"
   ]
  },
  {
   "cell_type": "code",
   "execution_count": 176,
   "metadata": {},
   "outputs": [
    {
     "name": "stdout",
     "output_type": "stream",
     "text": [
      "92\n",
      "4\n",
      "['Cs10Sn1Pb9I10Br20', 'Cs10Sn7Pb3I30', 'Cs10Sn9Pb1I30', 'Cs5Sn2Pb3I15']\n"
     ]
    }
   ],
   "source": [
    "final_formulas = [ x for x in df_grouped_formula['formula'] if \"H\" not in x ]\n",
    "print(len(final_formulas))\n",
    "Pb_Sn_final_formulas = [ x for x in final_formulas if \"Cs\" in x and \"Pb\" in x and 'Sn' in x and \"I\" in x]\n",
    "print(len(Pb_Sn_final_formulas))\n",
    "\n",
    "print(final_formulas)"
   ]
  },
  {
   "cell_type": "markdown",
   "id": "91e11743",
   "metadata": {},
   "source": [
    "For training the model before we have used the default table for featurizing our composition which is Mat2Vec"
   ]
  },
  {
   "cell_type": "code",
   "execution_count": 45,
   "id": "d2378bb8",
   "metadata": {},
   "outputs": [
    {
     "name": "stderr",
     "output_type": "stream",
     "text": [
      "Processing Input Data: 100%|██████████| 860/860 [00:00<00:00, 15933.55it/s]\n"
     ]
    },
    {
     "name": "stdout",
     "output_type": "stream",
     "text": [
      "\tFeaturizing Compositions...\n"
     ]
    },
    {
     "name": "stderr",
     "output_type": "stream",
     "text": [
      "Assigning Features...: 100%|██████████| 860/860 [00:00<00:00, 8081.11it/s]\n"
     ]
    },
    {
     "name": "stdout",
     "output_type": "stream",
     "text": [
      "\tCreating Pandas Objects...\n"
     ]
    }
   ],
   "source": [
    "from crabnet.utils.composition import generate_features\n",
    "df_features_oinynyk = generate_features(df_grouped_formula, elem_prop='oliynyk', drop_duplicates=False, extend_features=False, sum_feat=False, mini=False)"
   ]
  },
  {
   "cell_type": "code",
   "execution_count": 49,
   "id": "f234fb59",
   "metadata": {},
   "outputs": [
    {
     "data": {
      "text/plain": [
       "(     avg_Number  avg_Atomic_Weight  avg_Period  avg_group  avg_families  \\\n",
       " 0     57.000000         137.411075    5.166667  15.666667      6.833333   \n",
       " 1     58.400000         141.416023    5.200000  16.000000      7.000000   \n",
       " 2     55.250000         132.404890    5.125000  15.250000      6.625000   \n",
       " 3     60.041416         146.137333    5.237117  16.453683      7.240594   \n",
       " 4     54.200000         129.401179    5.100000  15.000000      6.500000   \n",
       " ..          ...                ...         ...        ...           ...   \n",
       " 855   19.800000          46.502983    2.525000   8.333333      7.083333   \n",
       " 856   20.132743          46.684377    2.725664  11.672566      7.088496   \n",
       " 857   21.483333          51.166649    2.579167   8.283333      7.070833   \n",
       " 858   20.933333          49.671899    2.566667   8.133333      7.033333   \n",
       " 859   21.300000          50.668399    2.575000   8.233333      7.058333   \n",
       " \n",
       "      avg_Metal  avg_Nonmetal  avg_Metalliod  avg_Mendeleev_Number  \\\n",
       " 0     0.333333      0.666667            0.0             89.166667   \n",
       " 1     0.300000      0.700000            0.0             90.900000   \n",
       " 2     0.375000      0.625000            0.0             87.000000   \n",
       " 3     0.249131      0.750869            0.0             93.256402   \n",
       " 4     0.400000      0.600000            0.0             85.700000   \n",
       " ..         ...           ...            ...                   ...   \n",
       " 855   0.083333      0.916667            0.0             89.941667   \n",
       " 856   0.079646      0.920354            0.0             87.123894   \n",
       " 857   0.083333      0.916667            0.0             89.695833   \n",
       " 858   0.083333      0.916667            0.0             88.783333   \n",
       " 859   0.083333      0.916667            0.0             89.391667   \n",
       " \n",
       "      avg_l_quantum_number  ...  mode_polarizability(A^3)  \\\n",
       " 0                0.833333  ...                       5.0   \n",
       " 1                0.900000  ...                       5.0   \n",
       " 2                0.750000  ...                       5.0   \n",
       " 3                0.987986  ...                       5.0   \n",
       " 4                0.700000  ...                       5.0   \n",
       " ..                    ...  ...                       ...   \n",
       " 855              0.500000  ...                       0.7   \n",
       " 856              0.743363  ...                       1.1   \n",
       " 857              0.495833  ...                       0.7   \n",
       " 858              0.483333  ...                       0.7   \n",
       " 859              0.491667  ...                       0.7   \n",
       " \n",
       "      mode_Melting_point_(K)  mode_Boiling_Point_(K)  mode_Density_(g/mL)  \\\n",
       " 0                    386.65                  457.15              4.93000   \n",
       " 1                    386.65                  457.15              4.93000   \n",
       " 2                    386.65                  457.15              4.93000   \n",
       " 3                    386.65                  457.15              4.93000   \n",
       " 4                    386.65                  457.15              4.93000   \n",
       " ..                      ...                     ...                  ...   \n",
       " 855                   14.05                   20.25              0.00007   \n",
       " 856                   63.25                   77.35              0.00125   \n",
       " 857                   14.05                   20.25              0.00007   \n",
       " 858                   14.05                   20.25              0.00007   \n",
       " 859                   14.05                   20.25              0.00007   \n",
       " \n",
       "      mode_specific_heat_(J/g_K)_  mode_heat_of_fusion_(kJ/mol)_  \\\n",
       " 0                          0.214                         7.8240   \n",
       " 1                          0.214                         7.8240   \n",
       " 2                          0.214                         7.8240   \n",
       " 3                          0.214                         7.8240   \n",
       " 4                          0.214                         7.8240   \n",
       " ..                           ...                            ...   \n",
       " 855                       14.304                         0.5868   \n",
       " 856                        1.040                         0.3604   \n",
       " 857                       14.304                         0.5868   \n",
       " 858                       14.304                         0.5868   \n",
       " 859                       14.304                         0.5868   \n",
       " \n",
       "      mode_heat_of_vaporization_(kJ/mol)_  \\\n",
       " 0                               20.75200   \n",
       " 1                               20.75200   \n",
       " 2                               20.75200   \n",
       " 3                               20.75200   \n",
       " 4                               20.75200   \n",
       " ..                                   ...   \n",
       " 855                              0.44936   \n",
       " 856                              2.79280   \n",
       " 857                              0.44936   \n",
       " 858                              0.44936   \n",
       " 859                              0.44936   \n",
       " \n",
       "      mode_thermal_conductivity_(W/(m_K))_  mode_heat_atomization(kJ/mol)  \\\n",
       " 0                                 0.44900                          107.0   \n",
       " 1                                 0.44900                          107.0   \n",
       " 2                                 0.44900                          107.0   \n",
       " 3                                 0.44900                          107.0   \n",
       " 4                                 0.44900                          107.0   \n",
       " ..                                    ...                            ...   \n",
       " 855                               0.18150                          218.0   \n",
       " 856                               0.02598                          473.0   \n",
       " 857                               0.18150                          218.0   \n",
       " 858                               0.18150                          218.0   \n",
       " 859                               0.18150                          218.0   \n",
       " \n",
       "      mode_Cohesive_energy  \n",
       " 0                    1.11  \n",
       " 1                    1.11  \n",
       " 2                    1.11  \n",
       " 3                    1.11  \n",
       " 4                    1.11  \n",
       " ..                    ...  \n",
       " 855                  0.00  \n",
       " 856                  4.92  \n",
       " 857                  0.00  \n",
       " 858                  0.00  \n",
       " 859                  0.00  \n",
       " \n",
       " [860 rows x 264 columns],\n",
       " 0      1.860\n",
       " 1      1.860\n",
       " 2      1.860\n",
       " 3      1.860\n",
       " 4      1.860\n",
       "        ...  \n",
       " 855    1.170\n",
       " 856    1.410\n",
       " 857    1.632\n",
       " 858    1.628\n",
       " 859    1.630\n",
       " Name: target, Length: 860, dtype: float64,\n",
       " 0                  Ag1Bi1I4\n",
       " 1                  Ag1Bi2I7\n",
       " 2                  Ag2Bi1I5\n",
       " 3            Ag38Bi750I2375\n",
       " 4                  Ag3Bi1I6\n",
       "                ...         \n",
       " 855      Sn7H60Pb3C10I30N10\n",
       " 856         Sn9H29C17I28N30\n",
       " 857    Sr1H120Pb19C20I60N20\n",
       " 858        Sr1H30Pb4C5I15N5\n",
       " 859      Sr1H60Pb9C10I30N10\n",
       " Name: formula, Length: 860, dtype: object,\n",
       " [])"
      ]
     },
     "execution_count": 49,
     "metadata": {},
     "output_type": "execute_result"
    }
   ],
   "source": [
    "df_features_oinynyk"
   ]
  },
  {
   "cell_type": "code",
   "execution_count": null,
   "id": "72cb8609",
   "metadata": {},
   "outputs": [],
   "source": []
  }
 ],
 "metadata": {
  "kernelspec": {
   "display_name": "Python 3 (ipykernel)",
   "language": "python",
   "name": "python3"
  },
  "language_info": {
   "codemirror_mode": {
    "name": "ipython",
    "version": 3
   },
   "file_extension": ".py",
   "mimetype": "text/x-python",
   "name": "python",
   "nbconvert_exporter": "python",
   "pygments_lexer": "ipython3",
   "version": "3.9.7"
  },
  "varInspector": {
   "cols": {
    "lenName": 16,
    "lenType": 16,
    "lenVar": 40
   },
   "kernels_config": {
    "python": {
     "delete_cmd_postfix": "",
     "delete_cmd_prefix": "del ",
     "library": "var_list.py",
     "varRefreshCmd": "print(var_dic_list())"
    },
    "r": {
     "delete_cmd_postfix": ") ",
     "delete_cmd_prefix": "rm(",
     "library": "var_list.r",
     "varRefreshCmd": "cat(var_dic_list()) "
    }
   },
   "types_to_exclude": [
    "module",
    "function",
    "builtin_function_or_method",
    "instance",
    "_Feature"
   ],
   "window_display": false
  },
  "vscode": {
   "interpreter": {
    "hash": "ba7ce8f8ad89ccb5272ab6fb5920f5829f456abd26af263e3828f3a0b17913d2"
   }
  }
 },
 "nbformat": 4,
 "nbformat_minor": 5
}
