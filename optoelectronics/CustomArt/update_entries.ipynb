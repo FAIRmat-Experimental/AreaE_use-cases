{
 "cells": [
  {
   "cell_type": "code",
   "execution_count": 2,
   "metadata": {},
   "outputs": [],
   "source": [
    "from ./update_m_def import update_m_def\n",
    "update_m_def(\"archive_files\", \"../upload/raw/kesterite_database_v1.schema.archive.yaml#/definitions/section_definitions/0\")"
   ]
  },
  {
   "cell_type": "code",
   "execution_count": 7,
   "metadata": {},
   "outputs": [],
   "source": [
    "import os\n",
    "import json\n",
    "\n",
    "def update_m_def(path_to_folder, new_m_def_value):\n",
    "    \"\"\"\n",
    "    Updates the value of the key \"m_def\" in all archive.json files in the\n",
    "    specified folder and all its subfolders, but only if the \"m_def\" key\n",
    "    exists in the file.\n",
    "\n",
    "    Args:\n",
    "        path_to_folder (str): The path to the folder to search in.\n",
    "        new_m_def_value (str): The new value for the \"m_def\" key.\n",
    "    \"\"\"\n",
    "    for root, dirs, files in os.walk(path_to_folder):\n",
    "        for file in files:\n",
    "            # if files ends with archive.json\n",
    "            if file.endswith(\"archive.json\"):\n",
    "                file_path = os.path.join(root, file)\n",
    "                print(file_path)\n",
    "                with open(file_path, \"r\") as f:\n",
    "                    data = json.load(f)\n",
    "                if \"m_def\" in data:\n",
    "                    data[\"data\"][\"m_def\"] = new_m_def_value\n",
    "                    with open(file_path, \"w\") as f:\n",
    "                        json.dump(data, f, indent=4)\n",
    "\n",
    "# update_m_def(\"archive_files\", \"../upload/raw/kesterite_database_v1.schema.archive.yaml#/definitions/section_definitions/0\")"
   ]
  },
  {
   "cell_type": "code",
   "execution_count": 8,
   "metadata": {},
   "outputs": [
    {
     "name": "stdout",
     "output_type": "stream",
     "text": [
      "archive_files\\EMPA_kesterite_entry\\Empa_baseline.archive.json\n",
      "archive_files\\ENEA_kesterite_entry\\ENEA_cell_KC400.archive.json\n",
      "archive_files\\kesterite_entries_pascal\\Tampo_2017.archive.json\n",
      "archive_files\\kesterite_entries_pascal\\UOL_Nowak_2021.archive.json\n",
      "archive_files\\kesterite_entries_pascal\\Choubrac_2020.archive.json\n",
      "archive_files\\kesterite_entries_pascal\\HZB_Schubert_2011.archive.json\n",
      "archive_files\\kesterite_entries_pascal\\UNSW_Yan_2018.archive.json\n",
      "archive_files\\kesterite_entries_pascal\\Gong2021_Ag.archive.json\n",
      "archive_files\\kesterite_entries_pascal\\UNSW_Sun_2016.archive.json\n",
      "archive_files\\kesterite_entries_pascal\\Gong_Ag_2021.archive.json\n",
      "archive_files\\kesterite_entries_pascal\\IBM_Todorov_2012.archive.json\n",
      "archive_files\\kesterite_entries_pascal\\AIST_Kim_2016.archive.json\n",
      "archive_files\\kesterite_entries_pascal\\test.archive.json\n",
      "archive_files\\kesterite_entries_pascal\\UOL_Nowak_2022.archive.json\n",
      "archive_files\\kesterite_entries_pascal\\Zhou_NanoEnergy_2021Li.archive.json\n",
      "archive_files\\kesterite_entries_pascal\\IBM_Wang_2014.archive.json\n",
      "archive_files\\kesterite_entries_pascal\\UOL_Taskesen_2018.archive.json\n",
      "archive_files\\kesterite_entries_pascal\\Gong2021.archive.json\n",
      "archive_files\\kesterite_entries_pascal\\Son_2019.archive.json\n",
      "archive_files\\kesterite_entries_pascal\\UU_Larsen_2019.archive.json\n",
      "archive_files\\kesterite_entries_pascal\\UNSW_Li_Record.archive.json\n",
      "archive_files\\kesterite_entries_pascal\\Zhou_NanoEnergy_2021.archive.json\n"
     ]
    }
   ],
   "source": [
    "update_m_def(\"archive_files\", \"../upload/raw/kesterite_database_v1.schema.archive.yaml#/definitions/section_definitions/0\")"
   ]
  },
  {
   "cell_type": "code",
   "execution_count": null,
   "metadata": {},
   "outputs": [],
   "source": []
  }
 ],
 "metadata": {
  "kernelspec": {
   "display_name": "base",
   "language": "python",
   "name": "python3"
  },
  "language_info": {
   "codemirror_mode": {
    "name": "ipython",
    "version": 3
   },
   "file_extension": ".py",
   "mimetype": "text/x-python",
   "name": "python",
   "nbconvert_exporter": "python",
   "pygments_lexer": "ipython3",
   "version": "3.9.7"
  },
  "orig_nbformat": 4,
  "vscode": {
   "interpreter": {
    "hash": "ba7ce8f8ad89ccb5272ab6fb5920f5829f456abd26af263e3828f3a0b17913d2"
   }
  }
 },
 "nbformat": 4,
 "nbformat_minor": 2
}
