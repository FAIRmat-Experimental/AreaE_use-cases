{
 "cells": [
  {
   "cell_type": "code",
   "execution_count": 15,
   "metadata": {},
   "outputs": [],
   "source": [
    "import os\n",
    "import json\n",
    "\n",
    "def update_m_def(path_to_folder, new_m_def_value):\n",
    "    \"\"\"\n",
    "    Updates the value of the key \"m_def\" in all archive.json files in the\n",
    "    specified folder and all its subfolders, but only if the \"m_def\" key\n",
    "    exists in the file.\n",
    "\n",
    "    Args:\n",
    "        path_to_folder (str): The path to the folder to search in.\n",
    "        new_m_def_value (str): The new value for the \"m_def\" key.\n",
    "    \"\"\"\n",
    "    for root, dirs, files in os.walk(path_to_folder):\n",
    "        for file in files:\n",
    "            if file.endswith(\"archive.json\"):\n",
    "                file_path = os.path.join(root, file)\n",
    "                with open(file_path, \"r\") as f:\n",
    "                    data = json.load(f)\n",
    "                if \"data\" in data and \"m_def\" in data[\"data\"]:\n",
    "                    data[\"data\"][\"m_def\"] = new_m_def_value\n",
    "                    with open(file_path, \"w\") as f:\n",
    "                        json.dump(data, f, indent=4)\n"
   ]
  },
  {
   "cell_type": "code",
   "execution_count": 16,
   "metadata": {},
   "outputs": [],
   "source": [
    "update_m_def(\"archive_files\", \"../upload/raw/kesterite_database_v1.schema.archive.yaml#/definitions/section_definitions/0\")"
   ]
  },
  {
   "cell_type": "code",
   "execution_count": null,
   "metadata": {},
   "outputs": [],
   "source": []
  }
 ],
 "metadata": {
  "kernelspec": {
   "display_name": "base",
   "language": "python",
   "name": "python3"
  },
  "language_info": {
   "codemirror_mode": {
    "name": "ipython",
    "version": 3
   },
   "file_extension": ".py",
   "mimetype": "text/x-python",
   "name": "python",
   "nbconvert_exporter": "python",
   "pygments_lexer": "ipython3",
   "version": "3.9.7"
  },
  "orig_nbformat": 4,
  "vscode": {
   "interpreter": {
    "hash": "ba7ce8f8ad89ccb5272ab6fb5920f5829f456abd26af263e3828f3a0b17913d2"
   }
  }
 },
 "nbformat": 4,
 "nbformat_minor": 2
}
